{
 "cells": [
  {
   "cell_type": "markdown",
   "id": "0ce16ca6-8762-403f-8dfc-4821fb0ea7b6",
   "metadata": {},
   "source": [
    "## Preprocess a Reddit dataset"
   ]
  },
  {
   "cell_type": "code",
   "execution_count": 1,
   "id": "fd540018-9c55-42f3-b821-e7c1c61cd3be",
   "metadata": {},
   "outputs": [],
   "source": [
    "import polars as pl\n",
    "import numpy as np\n",
    "import ollama\n",
    "import llama_index\n",
    "from llama_index.embeddings.ollama import OllamaEmbedding\n",
    "\n",
    "ollama_embedding = OllamaEmbedding(model_name=\"llama3.1\") "
   ]
  },
  {
   "cell_type": "code",
   "execution_count": 2,
   "id": "2def34aa-0730-4ca0-819a-b0227400a455",
   "metadata": {
    "scrolled": true
   },
   "outputs": [],
   "source": [
    "# df = pl.read_csv('./data/reddit_answers_long.csv', separator=';')\n",
    "# df"
   ]
  },
  {
   "cell_type": "markdown",
   "id": "590e2789-c9a7-4844-9067-0c146000a603",
   "metadata": {},
   "source": [
    "## Spark Version\n",
    "\n",
    "Use Pyspark to get embedding."
   ]
  },
  {
   "cell_type": "code",
   "execution_count": 3,
   "id": "162d9d41-2af9-467d-907e-457b5aeb888e",
   "metadata": {},
   "outputs": [],
   "source": [
    "# df.write_parquet('./data/reddit_answers_long.parquet')"
   ]
  },
  {
   "cell_type": "code",
   "execution_count": 4,
   "id": "6ef6959f-89db-4967-8bba-f4b69af80d9f",
   "metadata": {},
   "outputs": [],
   "source": [
    "import findspark\n",
    "findspark.init()\n",
    "import os\n",
    "import sys\n",
    "\n",
    "os.environ['PYSPARK_PYTHON'] = sys.executable\n",
    "os.environ['PYSPARK_DRIVER_PYTHON'] = sys.executable\n",
    "\n",
    "from pyspark.sql import SparkSession"
   ]
  },
  {
   "cell_type": "code",
   "execution_count": null,
   "id": "2d69c269-4174-4e6d-9f04-417962e5fe5a",
   "metadata": {},
   "outputs": [],
   "source": [
    "# spark = SparkSession.builder.appName(\"get_embedding\").master(\"local[*]\").getOrCreate()\n",
    "spark = SparkSession.builder.appName(\"get_embedding\").master(\"local[1]\").getOrCreate()"
   ]
  },
  {
   "cell_type": "code",
   "execution_count": 6,
   "id": "0d24dbf9-f411-4497-814f-dd88aa166b10",
   "metadata": {
    "scrolled": true
   },
   "outputs": [
    {
     "name": "stdout",
     "output_type": "stream",
     "text": [
      "+---+------+--------------------+-------+\n",
      "|   |  q_id|                text|  votes|\n",
      "+---+------+--------------------+-------+\n",
      "|  0|hvbvpz|Two pet ducks. Yo...| 2359.0|\n",
      "|  1|hvbvpz| Nice try Jeff Bezos|  764.0|\n",
      "|  2|hvbvpz|A curved shower r...| 1525.0|\n",
      "|  3|hvbvpz|Another monitor. ...| 1227.0|\n",
      "|  4|hvbvpz|A nasal irrigatio...|  659.0|\n",
      "|  5|hvbvpz|House plants. The...| 4078.0|\n",
      "|  6|hvbvpz|AeroPress coffee ...|  539.0|\n",
      "|  7|hvbvpz|New pair of socks...| 1727.0|\n",
      "|  8|hvbvpz|I bought a $1 bac...| 4088.0|\n",
      "|  9|hvbvpz|Rice cooker. That...|  924.0|\n",
      "| 10|hvbvpz|A decent light wa...| 1145.0|\n",
      "| 11|hvbvpz|If you have troub...|  656.0|\n",
      "| 12|hvbvpz|Vertical mouse. $...| 1786.0|\n",
      "| 13|hvbvpz|A king sized blan...|63308.0|\n",
      "| 15|hvbvpz|Sharp knives for ...|19673.0|\n",
      "| 16|hvbvpz|This post cost me...|12411.0|\n",
      "| 17|hvbvpz|A glass breaker o...| 5733.0|\n",
      "| 18|hvbvpz|Motion sensor nig...|24840.0|\n",
      "| 19|hvbvpz|In my opinion def...|18972.0|\n",
      "| 20|hvbvpz|Carbon monoxide d...|38616.0|\n",
      "+---+------+--------------------+-------+\n",
      "only showing top 20 rows\n",
      "\n"
     ]
    }
   ],
   "source": [
    "df_spark = spark.read.parquet('./data/reddit_answers_long.parquet')\n",
    "df_spark.show()"
   ]
  },
  {
   "cell_type": "code",
   "execution_count": 7,
   "id": "24f72be9-b7df-4abc-a72f-4773baaba497",
   "metadata": {},
   "outputs": [
    {
     "data": {
      "text/plain": [
       "5777453"
      ]
     },
     "execution_count": 7,
     "metadata": {},
     "output_type": "execute_result"
    }
   ],
   "source": [
    "df_spark.count()"
   ]
  },
  {
   "cell_type": "code",
   "execution_count": 8,
   "id": "066c379c-a35c-49d3-ba2d-88bcd0cb35e5",
   "metadata": {},
   "outputs": [
    {
     "name": "stdout",
     "output_type": "stream",
     "text": [
      "5\n",
      "+-------+------+--------------------+-----+\n",
      "|       |  q_id|                text|votes|\n",
      "+-------+------+--------------------+-----+\n",
      "| 384360|d11h5w|Talk fo listen, n...| 20.0|\n",
      "| 700354|ubwl7/|Give her all the ...|  3.0|\n",
      "| 736913|qzsxb/|A true open world...|  4.0|\n",
      "|1340492|patvg/|I used to work at...| 41.0|\n",
      "|5720176|fwxg91|Takis and Tostito...|  3.0|\n",
      "+-------+------+--------------------+-----+\n",
      "\n"
     ]
    }
   ],
   "source": [
    "# use a small sample data for pyspark\n",
    "df_spark_sampled = df_spark.sample(fraction=0.000001)\n",
    "print(df_spark_sampled.count())\n",
    "df_spark_sampled.show()"
   ]
  },
  {
   "cell_type": "code",
   "execution_count": null,
   "id": "b1eb1809-a724-4043-98eb-74650a9db30b",
   "metadata": {},
   "outputs": [],
   "source": []
  },
  {
   "cell_type": "code",
   "execution_count": 9,
   "id": "d63e0b22-31cb-4771-8f45-ed861d1eb210",
   "metadata": {},
   "outputs": [],
   "source": [
    "# Function to process each partition (batch) with Llama3\n",
    "\n",
    "\n",
    "def process_batch(iterator):\n",
    "    texts = [row.text for row in iterator]\n",
    "    all_chunks = []\n",
    "    \n",
    "    def split_text_into_chunks(text, chunk_size=512):\n",
    "        return [text[i:i+chunk_size] for i in range(0, len(text), chunk_size)]\n",
    "\n",
    "    for long_text in texts:\n",
    "        chunks = split_text_into_chunks(long_text, chunk_size=512)\n",
    "        all_chunks.extend(chunks)\n",
    "    \n",
    "    embeddings = ollama_embedding.get_text_embedding_batch(all_chunks, show_progress=False)  # Get embeddings for the batch\n",
    "    for chunk, em in zip(all_chunks, embeddings):\n",
    "        yield chunk, em[:5]\n",
    "\n",
    "# Apply the batch processing to the Spark DataFrame\n",
    "embeddings_rdd = df_spark_sampled.rdd.mapPartitions(process_batch)"
   ]
  },
  {
   "cell_type": "code",
   "execution_count": 10,
   "id": "f2efee76-48ca-4e4e-be2a-d2bd9460210b",
   "metadata": {},
   "outputs": [],
   "source": [
    "from pyspark.sql.types import (\n",
    "    ArrayType,\n",
    "    FloatType,\n",
    "    StringType,\n",
    "    StructType,\n",
    "    StructField,\n",
    ")"
   ]
  },
  {
   "cell_type": "code",
   "execution_count": 11,
   "id": "f4e26aa8-072e-464b-a8f5-e9dc7f304ecd",
   "metadata": {},
   "outputs": [
    {
     "name": "stderr",
     "output_type": "stream",
     "text": [
      "WARNING:root:Removing unpickleable private attribute _client\n",
      "WARNING:root:Removing unpickleable private attribute _async_client\n"
     ]
    }
   ],
   "source": [
    "# Convert the RDD back to a DataFrame with embeddings\n",
    "df_schema = StructType(\n",
    "    [\n",
    "        StructField(\"chunk\", StringType(), False),\n",
    "        StructField(\"embedding\", ArrayType(FloatType()), True),\n",
    "    ]\n",
    ")\n",
    "embeddings_df = spark.createDataFrame(embeddings_rdd, df_schema)\n"
   ]
  },
  {
   "cell_type": "code",
   "execution_count": null,
   "id": "e428c90e",
   "metadata": {},
   "outputs": [],
   "source": []
  },
  {
   "cell_type": "code",
   "execution_count": null,
   "id": "05e6d7c6-4409-4085-a2d9-ea8b0a065e15",
   "metadata": {},
   "outputs": [
    {
     "data": {
      "text/plain": [
       "5"
      ]
     },
     "execution_count": 12,
     "metadata": {},
     "output_type": "execute_result"
    }
   ],
   "source": [
    "\n",
    "embeddings_df.count()"
   ]
  },
  {
   "cell_type": "code",
   "execution_count": 13,
   "id": "bc810462-8ec5-4b8d-9d05-30b6833cfdd9",
   "metadata": {},
   "outputs": [
    {
     "name": "stdout",
     "output_type": "stream",
     "text": [
      "-RECORD 0----------------------------------------------------------------------------------------------------------------------------------------------------------------------------------------------------------------------------------------------------------------------------------------------------------------------------------------------------------------------------------------------\n",
      " chunk     | Talk fo listen, not to reply.  People remember how you made them feel, not what you talked about.                                                                                                                                                                                                                                                                                         \n",
      " embedding | [-2.3535442, -1.3912575, 1.4241426, 0.13649482, -1.9253745]                                                                                                                                                                                                                                                                                                                               \n",
      "-RECORD 1----------------------------------------------------------------------------------------------------------------------------------------------------------------------------------------------------------------------------------------------------------------------------------------------------------------------------------------------------------------------------------------------\n",
      " chunk     | Give her all the room she wants. Then, when you're teetering on the edge, get out and move to the other side of her. All the space you've ever dreamed of.                                                                                                                                                                                                                                \n",
      " embedding | [-0.57280916, -5.1203623, 0.9346544, 0.21141225, 0.6690744]                                                                                                                                                                                                                                                                                                                               \n",
      "-RECORD 2----------------------------------------------------------------------------------------------------------------------------------------------------------------------------------------------------------------------------------------------------------------------------------------------------------------------------------------------------------------------------------------------\n",
      " chunk     | A true open world Zelda, maybe something as massive as Skyrim. Too bad it probably won't happen.                                                                                                                                                                                                                                                                                          \n",
      " embedding | [-3.7155633, -2.15133, 5.088053, -2.9212124, 2.574439]                                                                                                                                                                                                                                                                                                                                    \n",
      "-RECORD 3----------------------------------------------------------------------------------------------------------------------------------------------------------------------------------------------------------------------------------------------------------------------------------------------------------------------------------------------------------------------------------------------\n",
      " chunk     | I used to work at a fairly large supermarket on the bread and cakes section. One day, as i was working away minding myown business, there was a family deciding which birthday cake to buy. The girl picked up a boxed cake, then proceded to punch it very hard a few times, then put it back. Her mother didn't do a thing about it. The cake was totally wrecked and had to be binned. \n",
      " embedding | [-1.3688513, -0.9548838, -0.17025022, -0.9647246, 0.7346113]                                                                                                                                                                                                                                                                                                                              \n",
      "-RECORD 4----------------------------------------------------------------------------------------------------------------------------------------------------------------------------------------------------------------------------------------------------------------------------------------------------------------------------------------------------------------------------------------------\n",
      " chunk     | Takis and Tostitos cheese dip. Spicy plus cheezy. Toss a sweet tea on top and I'm set.                                                                                                                                                                                                                                                                                                    \n",
      " embedding | [-2.5339208, -3.4456463, -0.24316527, 1.5975056, 1.2001008]                                                                                                                                                                                                                                                                                                                               \n",
      "\n"
     ]
    }
   ],
   "source": [
    "embeddings_df.show(truncate=False, vertical=True)"
   ]
  }
 ],
 "metadata": {
  "kernelspec": {
   "display_name": "base",
   "language": "python",
   "name": "python3"
  },
  "language_info": {
   "codemirror_mode": {
    "name": "ipython",
    "version": 3
   },
   "file_extension": ".py",
   "mimetype": "text/x-python",
   "name": "python",
   "nbconvert_exporter": "python",
   "pygments_lexer": "ipython3",
   "version": "3.11.10"
  }
 },
 "nbformat": 4,
 "nbformat_minor": 5
}
