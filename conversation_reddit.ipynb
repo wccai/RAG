{
 "cells": [
  {
   "cell_type": "code",
   "execution_count": null,
   "id": "0e7afcd8-2548-4af6-af43-f16a09449853",
   "metadata": {},
   "outputs": [],
   "source": [
    "# conda/pip install langchain\n",
    "# conda/pip install langchain-ollama\n",
    "# conda/pip install llama-index\n"
   ]
  },
  {
   "cell_type": "markdown",
   "id": "c6acccff-5cf9-419f-8774-1f0baaee3925",
   "metadata": {},
   "source": [
    "## Embedding Exersice"
   ]
  },
  {
   "cell_type": "code",
   "execution_count": 1,
   "id": "96d2a161-fc4b-4817-b494-1a82d802db65",
   "metadata": {},
   "outputs": [],
   "source": [
    "import ollama"
   ]
  },
  {
   "cell_type": "code",
   "execution_count": 5,
   "id": "861c291d-a9ac-4b45-8e1c-5c18c4d66d9e",
   "metadata": {},
   "outputs": [],
   "source": [
    "em = ollama.embeddings(model=\"llama3.1\", prompt=\"hello world\")"
   ]
  },
  {
   "cell_type": "code",
   "execution_count": 9,
   "id": "63d17b0b-0464-4d51-bb13-1ff32826b306",
   "metadata": {},
   "outputs": [
    {
     "data": {
      "text/plain": [
       "[-0.8186560869216919,\n",
       " -1.8279454708099365,\n",
       " 1.3133100271224976,\n",
       " -0.016675494611263275,\n",
       " 2.011758804321289]"
      ]
     },
     "execution_count": 9,
     "metadata": {},
     "output_type": "execute_result"
    }
   ],
   "source": [
    "em[\"embedding\"][:5]"
   ]
  },
  {
   "cell_type": "code",
   "execution_count": 10,
   "id": "14d26004-31b4-4a1e-9321-70a63b7fdc3e",
   "metadata": {},
   "outputs": [
    {
     "data": {
      "text/plain": [
       "4096"
      ]
     },
     "execution_count": 10,
     "metadata": {},
     "output_type": "execute_result"
    }
   ],
   "source": [
    "len(em[\"embedding\"])"
   ]
  },
  {
   "cell_type": "code",
   "execution_count": 1,
   "id": "d3c50752-ba40-4add-9cf2-f663e2c812a7",
   "metadata": {},
   "outputs": [],
   "source": [
    "import llama_index"
   ]
  },
  {
   "cell_type": "code",
   "execution_count": 2,
   "id": "646b4d9a-807c-44e8-93a6-e62709fd8ed8",
   "metadata": {},
   "outputs": [],
   "source": [
    "from llama_index.embeddings.ollama import OllamaEmbedding"
   ]
  },
  {
   "cell_type": "code",
   "execution_count": 3,
   "id": "8567e2f2-5936-44df-a9fc-53509dd7b2b5",
   "metadata": {},
   "outputs": [],
   "source": [
    "ollama_embedding = OllamaEmbedding(model_name=\"llama3.1\") "
   ]
  },
  {
   "cell_type": "code",
   "execution_count": 4,
   "id": "1a675031-e8f8-443b-a287-ff376ffc0392",
   "metadata": {},
   "outputs": [
    {
     "data": {
      "text/plain": [
       "[-0.8110920190811157,\n",
       " -1.7886261940002441,\n",
       " 1.3474432229995728,\n",
       " 0.02011205442249775,\n",
       " 2.2166240215301514]"
      ]
     },
     "execution_count": 4,
     "metadata": {},
     "output_type": "execute_result"
    }
   ],
   "source": [
    "em_query = ollama_embedding.get_query_embedding(\"hello world\")\n",
    "em_query[:5]"
   ]
  },
  {
   "cell_type": "code",
   "execution_count": 5,
   "id": "4f2b4605-dd7d-49e9-b7c6-e2aef8a64efb",
   "metadata": {},
   "outputs": [
    {
     "data": {
      "text/plain": [
       "[-0.8110920190811157,\n",
       " -1.7886261940002441,\n",
       " 1.3474432229995728,\n",
       " 0.02011205442249775,\n",
       " 2.2166240215301514]"
      ]
     },
     "execution_count": 5,
     "metadata": {},
     "output_type": "execute_result"
    }
   ],
   "source": [
    "em_txt = ollama_embedding.get_text_embedding(\"hello world\")\n",
    "em_txt[:5]"
   ]
  },
  {
   "cell_type": "code",
   "execution_count": 6,
   "id": "0df4a7fc-4fae-4061-abf1-790c2da9729f",
   "metadata": {},
   "outputs": [
    {
     "name": "stdout",
     "output_type": "stream",
     "text": [
      "4096 4096 0.0 0.0\n"
     ]
    }
   ],
   "source": [
    "import numpy as np\n",
    "print(len(em_query), len(em_txt), np.mean(np.array(em_query) - np.array(em_txt)), np.std(np.array(em_query) - np.array(em_txt)))"
   ]
  },
  {
   "cell_type": "code",
   "execution_count": 7,
   "id": "bd04d254-108b-459e-ac73-d00a3bb33eda",
   "metadata": {},
   "outputs": [],
   "source": [
    "long_txt = \"\"\"\n",
    "TRUMP-2-DRUNK DRINKING GAME Player(s): 1 to Infinite Age: 18/21 (depending on legality in your region) Timeframe: As long as you can hold a beverage in your hand, \n",
    "because this might take awhile Rules: Every player sits in front of the TV, with a beverage in hand (you should choose a good session beverage,\n",
    "this is going to get you proper fucked). As the impeachment process is progressing, players should be listening for the various chugging rules. \n",
    "When a rule is violated, each player must take a sip from their respective beverage. Don't rush this, honestly - be smart. \n",
    "Chug Rules  When someone says \"\"Quid Pro Quo\"\", raise your drink and salute, then chug When someone calls the whistleblower a liar/traitor, \n",
    "make a pirate arrrgh and sip When anyone uses a whataboutism, stand up, spin around 360, and consume If anyone mentions \"\"fake news\"\", \n",
    "smack your forehead and say \"\"duh\"\", then imbibe If anyone mentions Giuliani, take the little green man off your glass, \n",
    "then take a glug Put your thumb on the table anytime someone says \"\"witch hunt:, and the last person to do so takes one Whenever Pelosi is mentioned, \n",
    "the first person to \"\"Pelosi clap\"\" can give a drink to another player If someone says \"\"Trump has done nothing illegal\"\", everyone make a siren sound and guzzel  \n",
    "\"\"\""
   ]
  },
  {
   "cell_type": "code",
   "execution_count": 8,
   "id": "8f8c7e16-2fa6-4639-b909-3691059359ef",
   "metadata": {},
   "outputs": [],
   "source": [
    "em_query = ollama_embedding.get_query_embedding(long_txt)\n",
    "em_txt = ollama_embedding.get_text_embedding(long_txt)"
   ]
  },
  {
   "cell_type": "code",
   "execution_count": 9,
   "id": "7fe687b4-0015-4d1e-a665-2638e9436c93",
   "metadata": {},
   "outputs": [
    {
     "name": "stdout",
     "output_type": "stream",
     "text": [
      "4096 4096 0.0 0.0\n"
     ]
    }
   ],
   "source": [
    "print(len(em_query), len(em_txt), np.mean(np.array(em_query) - np.array(em_txt)), np.std(np.array(em_query) - np.array(em_txt)))"
   ]
  },
  {
   "cell_type": "code",
   "execution_count": null,
   "id": "c23cbd02-0647-40a0-a0e1-14d245d38cad",
   "metadata": {},
   "outputs": [],
   "source": []
  },
  {
   "cell_type": "code",
   "execution_count": null,
   "id": "3d48b23a-ad0b-4b9f-a225-1e8b2a5b25e9",
   "metadata": {},
   "outputs": [],
   "source": []
  },
  {
   "cell_type": "code",
   "execution_count": 10,
   "id": "2a57b9f5-9dde-4412-b5e3-01b887e27ce3",
   "metadata": {
    "scrolled": true
   },
   "outputs": [
    {
     "data": {
      "application/vnd.jupyter.widget-view+json": {
       "model_id": "30bdcc196aea4bf1b5e472260334d600",
       "version_major": 2,
       "version_minor": 0
      },
      "text/plain": [
       "Generating embeddings:   0%|          | 0/3 [00:00<?, ?it/s]"
      ]
     },
     "metadata": {},
     "output_type": "display_data"
    },
    {
     "name": "stdout",
     "output_type": "stream",
     "text": [
      "[-0.8110920190811157, -1.7886261940002441, 1.3474432229995728, 0.02011205442249775, 2.2166240215301514]\n",
      "[-3.583725929260254, 0.5459046363830566, 2.9241209030151367, 2.0024449825286865, 0.6277766823768616]\n",
      "[0.22723498940467834, -3.6325671672821045, 3.790321111679077, 0.7176727652549744, -0.22078262269496918]\n"
     ]
    }
   ],
   "source": [
    "em_txt_batch = ollama_embedding.get_text_embedding_batch([\"hello world\", \"Black Myth: Wukong\", \"PC World\"], show_progress=True)\n",
    "for each in em_txt_batch:\n",
    "    print(each[:5])"
   ]
  },
  {
   "cell_type": "markdown",
   "id": "0ce16ca6-8762-403f-8dfc-4821fb0ea7b6",
   "metadata": {},
   "source": [
    "## Preprocess a Reddit dataset\n",
    "\n",
    "Reddit dataset url: : https://www.kaggle.com/datasets/rodmcn/askreddit-questions-and-answers/data"
   ]
  },
  {
   "cell_type": "code",
   "execution_count": 11,
   "id": "b927f93d-7bc9-4a88-b0e4-b7b775bfae24",
   "metadata": {},
   "outputs": [],
   "source": [
    "\n",
    "import polars as pl\n",
    "import numpy as np\n",
    "# ollama\n",
    "import ollama\n",
    "import llama_index"
   ]
  },
  {
   "cell_type": "code",
   "execution_count": 20,
   "id": "2def34aa-0730-4ca0-819a-b0227400a455",
   "metadata": {},
   "outputs": [
    {
     "data": {
      "text/html": [
       "<div><style>\n",
       ".dataframe > thead > tr,\n",
       ".dataframe > tbody > tr {\n",
       "  text-align: right;\n",
       "  white-space: pre-wrap;\n",
       "}\n",
       "</style>\n",
       "<small>shape: (5_777_453, 4)</small><table border=\"1\" class=\"dataframe\"><thead><tr><th></th><th>q_id</th><th>text</th><th>votes</th></tr><tr><td>i64</td><td>str</td><td>str</td><td>f64</td></tr></thead><tbody><tr><td>0</td><td>&quot;hvbvpz&quot;</td><td>&quot;Two pet ducks. You may be temp…</td><td>2359.0</td></tr><tr><td>1</td><td>&quot;hvbvpz&quot;</td><td>&quot;Nice try Jeff Bezos&quot;</td><td>764.0</td></tr><tr><td>2</td><td>&quot;hvbvpz&quot;</td><td>&quot;A curved shower rod. Seriously…</td><td>1525.0</td></tr><tr><td>3</td><td>&quot;hvbvpz&quot;</td><td>&quot;Another monitor. Your producti…</td><td>1227.0</td></tr><tr><td>4</td><td>&quot;hvbvpz&quot;</td><td>&quot;A nasal irrigation kit - eithe…</td><td>659.0</td></tr><tr><td>&hellip;</td><td>&hellip;</td><td>&hellip;</td><td>&hellip;</td></tr><tr><td>5940821</td><td>&quot;3kf27v&quot;</td><td>&quot;Money is the most important th…</td><td>4.0</td></tr><tr><td>5940823</td><td>&quot;3kf27v&quot;</td><td>&quot;&quot;&quot;If you can&#x27;t learn how to sh…</td><td>6.0</td></tr><tr><td>5940824</td><td>&quot;3kf27v&quot;</td><td>&quot;Everyone in college writes in …</td><td>5.0</td></tr><tr><td>5940825</td><td>&quot;3kf27v&quot;</td><td>&quot;&quot;&quot;Everything happens for a rea…</td><td>7.0</td></tr><tr><td>5940826</td><td>&quot;3kf27v&quot;</td><td>&quot;probably the whole ~money does…</td><td>7.0</td></tr></tbody></table></div>"
      ],
      "text/plain": [
       "shape: (5_777_453, 4)\n",
       "┌─────────┬────────┬─────────────────────────────────┬────────┐\n",
       "│         ┆ q_id   ┆ text                            ┆ votes  │\n",
       "│ ---     ┆ ---    ┆ ---                             ┆ ---    │\n",
       "│ i64     ┆ str    ┆ str                             ┆ f64    │\n",
       "╞═════════╪════════╪═════════════════════════════════╪════════╡\n",
       "│ 0       ┆ hvbvpz ┆ Two pet ducks. You may be temp… ┆ 2359.0 │\n",
       "│ 1       ┆ hvbvpz ┆ Nice try Jeff Bezos             ┆ 764.0  │\n",
       "│ 2       ┆ hvbvpz ┆ A curved shower rod. Seriously… ┆ 1525.0 │\n",
       "│ 3       ┆ hvbvpz ┆ Another monitor. Your producti… ┆ 1227.0 │\n",
       "│ 4       ┆ hvbvpz ┆ A nasal irrigation kit - eithe… ┆ 659.0  │\n",
       "│ …       ┆ …      ┆ …                               ┆ …      │\n",
       "│ 5940821 ┆ 3kf27v ┆ Money is the most important th… ┆ 4.0    │\n",
       "│ 5940823 ┆ 3kf27v ┆ \"\"If you can't learn how to sh… ┆ 6.0    │\n",
       "│ 5940824 ┆ 3kf27v ┆ Everyone in college writes in … ┆ 5.0    │\n",
       "│ 5940825 ┆ 3kf27v ┆ \"\"Everything happens for a rea… ┆ 7.0    │\n",
       "│ 5940826 ┆ 3kf27v ┆ probably the whole ~money does… ┆ 7.0    │\n",
       "└─────────┴────────┴─────────────────────────────────┴────────┘"
      ]
     },
     "execution_count": 20,
     "metadata": {},
     "output_type": "execute_result"
    }
   ],
   "source": [
    "df = pl.read_csv('./data/reddit_answers_long.csv', separator=';')\n",
    "df"
   ]
  },
  {
   "cell_type": "code",
   "execution_count": 24,
   "id": "86647fd2-d2e2-42f5-aeba-229040ac39ba",
   "metadata": {
    "scrolled": true
   },
   "outputs": [
    {
     "data": {
      "text/html": [
       "<div><style>\n",
       ".dataframe > thead > tr,\n",
       ".dataframe > tbody > tr {\n",
       "  text-align: right;\n",
       "  white-space: pre-wrap;\n",
       "}\n",
       "</style>\n",
       "<small>shape: (5_777_453, 5)</small><table border=\"1\" class=\"dataframe\"><thead><tr><th></th><th>q_id</th><th>text</th><th>votes</th><th>answer_len_in_char</th></tr><tr><td>i64</td><td>str</td><td>str</td><td>f64</td><td>i32</td></tr></thead><tbody><tr><td>242329</td><td>&quot;erd482&quot;</td><td>&quot;It&#x27;s nearly the beginning of a…</td><td>2.0</td><td>4564852</td></tr><tr><td>3571290</td><td>&quot;hf4cta&quot;</td><td>&quot;Me: I think that in order to s…</td><td>4.0</td><td>2906243</td></tr><tr><td>2770234</td><td>&quot;nslkd/&quot;</td><td>&quot;What if he has to go poop?  Ah…</td><td>1.0</td><td>2154598</td></tr><tr><td>4785025</td><td>&quot;su8sn/&quot;</td><td>&quot;(and its not unusual for my co…</td><td>3.0</td><td>1891855</td></tr><tr><td>5551815</td><td>&quot;iptrin&quot;</td><td>&quot;\\ it&#x27;s never the same spot on …</td><td>45.0</td><td>1819715</td></tr><tr><td>&hellip;</td><td>&hellip;</td><td>&hellip;</td><td>&hellip;</td><td>&hellip;</td></tr><tr><td>5909814</td><td>&quot;j2dozl&quot;</td><td>&quot;E&quot;</td><td>3.0</td><td>1</td></tr><tr><td>5912551</td><td>&quot;1cfbzg&quot;</td><td>&quot;.&quot;</td><td>14.0</td><td>1</td></tr><tr><td>5913158</td><td>&quot;g4fslr&quot;</td><td>&quot;K&quot;</td><td>3.0</td><td>1</td></tr><tr><td>5917507</td><td>&quot;hb2uy9&quot;</td><td>&quot;K&quot;</td><td>39.0</td><td>1</td></tr><tr><td>5918922</td><td>&quot;dkpz72&quot;</td><td>&quot;2&quot;</td><td>2.0</td><td>1</td></tr></tbody></table></div>"
      ],
      "text/plain": [
       "shape: (5_777_453, 5)\n",
       "┌─────────┬────────┬─────────────────────────────────┬───────┬────────────────────┐\n",
       "│         ┆ q_id   ┆ text                            ┆ votes ┆ answer_len_in_char │\n",
       "│ ---     ┆ ---    ┆ ---                             ┆ ---   ┆ ---                │\n",
       "│ i64     ┆ str    ┆ str                             ┆ f64   ┆ i32                │\n",
       "╞═════════╪════════╪═════════════════════════════════╪═══════╪════════════════════╡\n",
       "│ 242329  ┆ erd482 ┆ It's nearly the beginning of a… ┆ 2.0   ┆ 4564852            │\n",
       "│ 3571290 ┆ hf4cta ┆ Me: I think that in order to s… ┆ 4.0   ┆ 2906243            │\n",
       "│ 2770234 ┆ nslkd/ ┆ What if he has to go poop?  Ah… ┆ 1.0   ┆ 2154598            │\n",
       "│ 4785025 ┆ su8sn/ ┆ (and its not unusual for my co… ┆ 3.0   ┆ 1891855            │\n",
       "│ 5551815 ┆ iptrin ┆ \\ it's never the same spot on … ┆ 45.0  ┆ 1819715            │\n",
       "│ …       ┆ …      ┆ …                               ┆ …     ┆ …                  │\n",
       "│ 5909814 ┆ j2dozl ┆ E                               ┆ 3.0   ┆ 1                  │\n",
       "│ 5912551 ┆ 1cfbzg ┆ .                               ┆ 14.0  ┆ 1                  │\n",
       "│ 5913158 ┆ g4fslr ┆ K                               ┆ 3.0   ┆ 1                  │\n",
       "│ 5917507 ┆ hb2uy9 ┆ K                               ┆ 39.0  ┆ 1                  │\n",
       "│ 5918922 ┆ dkpz72 ┆ 2                               ┆ 2.0   ┆ 1                  │\n",
       "└─────────┴────────┴─────────────────────────────────┴───────┴────────────────────┘"
      ]
     },
     "execution_count": 24,
     "metadata": {},
     "output_type": "execute_result"
    }
   ],
   "source": [
    "df_sorted = df.with_columns(pl.col('text').map_elements(lambda x: len(x), return_dtype=pl.Int32).alias('answer_len_in_char')) \\\n",
    "    .sort('answer_len_in_char', descending=True)\n",
    "df_sorted"
   ]
  },
  {
   "cell_type": "code",
   "execution_count": 23,
   "id": "abb420a5-81ac-4130-810c-db87ddd17a34",
   "metadata": {},
   "outputs": [],
   "source": [
    "def split_text_into_chunks(text, chunk_size=512):\n",
    "    return [text[i:i+chunk_size] for i in range(0, len(text), chunk_size)]"
   ]
  },
  {
   "cell_type": "code",
   "execution_count": null,
   "id": "b286ed0e-3553-46e6-8350-9c318a2c5c19",
   "metadata": {},
   "outputs": [],
   "source": [
    "chunks = split_text_into_chunks(long_txt, chunk_size=512)\n",
    "\n",
    "for i, chunk in enumerate(chunks):\n",
    "    print(f'Chunk {i+1}:')\n",
    "    print(chunk)\n",
    "    print()"
   ]
  },
  {
   "cell_type": "code",
   "execution_count": 26,
   "id": "b44f9758-5a85-4f53-9dab-6b9bb4cee4fe",
   "metadata": {},
   "outputs": [
    {
     "name": "stdout",
     "output_type": "stream",
     "text": [
      "6830889\n",
      "CPU times: user 5.27 s, sys: 1.09 s, total: 6.36 s\n",
      "Wall time: 6.93 s\n"
     ]
    }
   ],
   "source": [
    "%%time\n",
    "\n",
    "all_chunks = []\n",
    "for row in df_sorted.rows():\n",
    "    long_txt = row[2]\n",
    "    chunks = split_text_into_chunks(long_txt, chunk_size=512)\n",
    "    all_chunks.extend(chunks)\n",
    "\n",
    "print(len(all_chunks))"
   ]
  },
  {
   "cell_type": "code",
   "execution_count": 27,
   "id": "0f944dbd-b432-45f5-9cea-ff3d67d5c4eb",
   "metadata": {},
   "outputs": [
    {
     "name": "stderr",
     "output_type": "stream",
     "text": [
      "Generating embeddings:   0%|                                                                                                                                         | 3920/6830889 [1:11:15<1966:00:35,  1.04s/it]\n",
      "KeyboardInterrupt\n",
      "\n"
     ]
    }
   ],
   "source": [
    "em_batch = ollama_embedding.get_text_embedding_batch(all_chunks, show_progress=True)"
   ]
  },
  {
   "cell_type": "markdown",
   "id": "758e7188-9e19-48c4-a346-aede0eb05283",
   "metadata": {},
   "source": [
    "## Sample some related answers from this Reddit dataset"
   ]
  },
  {
   "cell_type": "code",
   "execution_count": 21,
   "id": "650b2a7f-20ca-49d1-9a22-d98fe53a3eef",
   "metadata": {},
   "outputs": [
    {
     "data": {
      "text/html": [
       "<div><style>\n",
       ".dataframe > thead > tr,\n",
       ".dataframe > tbody > tr {\n",
       "  text-align: right;\n",
       "  white-space: pre-wrap;\n",
       "}\n",
       "</style>\n",
       "<small>shape: (254, 4)</small><table border=\"1\" class=\"dataframe\"><thead><tr><th></th><th>q_id</th><th>text</th><th>votes</th></tr><tr><td>i64</td><td>str</td><td>str</td><td>f64</td></tr></thead><tbody><tr><td>30669</td><td>&quot;clwnoc&quot;</td><td>&quot;&quot;In the late 1980s Nintendo an…</td><td>1606.0</td></tr><tr><td>53052</td><td>&quot;epj100&quot;</td><td>&quot;Do you like dungeon-diving? Do…</td><td>187.0</td></tr><tr><td>55547</td><td>&quot;b7ssbh&quot;</td><td>&quot;There are CPUs that can change…</td><td>336.0</td></tr><tr><td>68751</td><td>&quot;i5htyn&quot;</td><td>&quot;Any action/invasion/war movie/…</td><td>774.0</td></tr><tr><td>70275</td><td>&quot;grh52m&quot;</td><td>&quot;My younger brother held a magn…</td><td>272.0</td></tr><tr><td>&hellip;</td><td>&hellip;</td><td>&hellip;</td><td>&hellip;</td></tr><tr><td>5854144</td><td>&quot;fgwmq2&quot;</td><td>&quot;I decided I was finally going …</td><td>34.0</td></tr><tr><td>5868868</td><td>&quot;efglq9&quot;</td><td>&quot;There can be no end all game, …</td><td>3.0</td></tr><tr><td>5877450</td><td>&quot;5u8pou&quot;</td><td>&quot;&quot;1/5. Remember the days of the…</td><td>2.0</td></tr><tr><td>5878261</td><td>&quot;191r2k&quot;</td><td>&quot;EEAECO.com gives student disco…</td><td>7.0</td></tr><tr><td>5894177</td><td>&quot;1tsfyd&quot;</td><td>&quot;CPR instructor/EMT here! Thoug…</td><td>215.0</td></tr></tbody></table></div>"
      ],
      "text/plain": [
       "shape: (254, 4)\n",
       "┌─────────┬────────┬─────────────────────────────────┬────────┐\n",
       "│         ┆ q_id   ┆ text                            ┆ votes  │\n",
       "│ ---     ┆ ---    ┆ ---                             ┆ ---    │\n",
       "│ i64     ┆ str    ┆ str                             ┆ f64    │\n",
       "╞═════════╪════════╪═════════════════════════════════╪════════╡\n",
       "│ 30669   ┆ clwnoc ┆ \"In the late 1980s Nintendo an… ┆ 1606.0 │\n",
       "│ 53052   ┆ epj100 ┆ Do you like dungeon-diving? Do… ┆ 187.0  │\n",
       "│ 55547   ┆ b7ssbh ┆ There are CPUs that can change… ┆ 336.0  │\n",
       "│ 68751   ┆ i5htyn ┆ Any action/invasion/war movie/… ┆ 774.0  │\n",
       "│ 70275   ┆ grh52m ┆ My younger brother held a magn… ┆ 272.0  │\n",
       "│ …       ┆ …      ┆ …                               ┆ …      │\n",
       "│ 5854144 ┆ fgwmq2 ┆ I decided I was finally going … ┆ 34.0   │\n",
       "│ 5868868 ┆ efglq9 ┆ There can be no end all game, … ┆ 3.0    │\n",
       "│ 5877450 ┆ 5u8pou ┆ \"1/5. Remember the days of the… ┆ 2.0    │\n",
       "│ 5878261 ┆ 191r2k ┆ EEAECO.com gives student disco… ┆ 7.0    │\n",
       "│ 5894177 ┆ 1tsfyd ┆ CPR instructor/EMT here! Thoug… ┆ 215.0  │\n",
       "└─────────┴────────┴─────────────────────────────────┴────────┘"
      ]
     },
     "execution_count": 21,
     "metadata": {},
     "output_type": "execute_result"
    }
   ],
   "source": [
    "df_game_hardware = df.filter((pl.col('text').str.contains('game')) & (pl.col('text').str.contains('hardware')))\n",
    "df_game_hardware"
   ]
  },
  {
   "cell_type": "code",
   "execution_count": 24,
   "id": "298a9a10-72ea-4554-905a-07901d97362d",
   "metadata": {},
   "outputs": [
    {
     "name": "stdout",
     "output_type": "stream",
     "text": [
      "894\n",
      "CPU times: user 8.26 ms, sys: 3.51 ms, total: 11.8 ms\n",
      "Wall time: 11.7 ms\n"
     ]
    }
   ],
   "source": [
    "%%time\n",
    "\n",
    "all_chunks = []\n",
    "for row in df_game_hardware.rows():\n",
    "    long_txt = row[2][:5120]\n",
    "    # print(len(long_txt))\n",
    "    chunks = split_text_into_chunks(long_txt, chunk_size=512)\n",
    "    all_chunks.extend(chunks)\n",
    "\n",
    "print(len(all_chunks))"
   ]
  },
  {
   "cell_type": "code",
   "execution_count": 36,
   "id": "7e5b077f-dfb3-4f68-8a5c-9ae50e5dbd36",
   "metadata": {},
   "outputs": [
    {
     "name": "stderr",
     "output_type": "stream",
     "text": [
      "/Users/sean/miniconda3/envs/crazymaple/lib/python3.8/site-packages/tqdm/auto.py:21: TqdmWarning: IProgress not found. Please update jupyter and ipywidgets. See https://ipywidgets.readthedocs.io/en/stable/user_install.html\n",
      "  from .autonotebook import tqdm as notebook_tqdm\n",
      "Generating embeddings: 100%|██████████████████████████████████████████████████████████████████| 894/894 [19:09<00:00,  1.29s/it]\n"
     ]
    }
   ],
   "source": [
    "em_batch = ollama_embedding.get_text_embedding_batch(all_chunks, show_progress=True)"
   ]
  },
  {
   "cell_type": "code",
   "execution_count": 40,
   "id": "0d4b69d4-c23c-44e5-9f6b-132e948e0d62",
   "metadata": {},
   "outputs": [
    {
     "data": {
      "text/plain": [
       "[-2.511759042739868,\n",
       " -1.8970335721969604,\n",
       " -3.3692119121551514,\n",
       " 0.20328912138938904,\n",
       " 5.4912614822387695,\n",
       " 1.153999924659729,\n",
       " -0.6685442328453064,\n",
       " -1.9399319887161255,\n",
       " -3.082397699356079,\n",
       " -2.017218828201294]"
      ]
     },
     "execution_count": 40,
     "metadata": {},
     "output_type": "execute_result"
    }
   ],
   "source": [
    "em_batch[0][:10]"
   ]
  },
  {
   "cell_type": "code",
   "execution_count": 47,
   "id": "1f5ff750-da94-48d4-a0f9-54ba2dd997f6",
   "metadata": {},
   "outputs": [],
   "source": [
    "import pickle\n",
    "\n",
    "with open('./em_batch.pickle', 'wb') as em_batch_file:\n",
    "    pickle.dump(em_batch, em_batch_file)"
   ]
  },
  {
   "cell_type": "code",
   "execution_count": null,
   "id": "4e684da1-7727-434e-a332-25a381a8485c",
   "metadata": {},
   "outputs": [],
   "source": [
    "em2chunkid = {}\n",
    "for i, em in enumerate(em_batch):\n",
    "    em2chunkid.update({str(em):i})"
   ]
  },
  {
   "cell_type": "code",
   "execution_count": 10,
   "id": "6ff3ab69-ea92-46a7-9d5b-098bc0ede643",
   "metadata": {},
   "outputs": [],
   "source": [
    "import numpy as np\n",
    "from numpy.linalg import norm\n",
    "\n",
    "\n",
    "def find_top_similar_ones(question: str, topn: int):\n",
    "    q_em = ollama_embedding.get_query_embedding(question)\n",
    "    q_em_norm = norm(q_em)\n",
    "    sim_scores = [(np.dot(q_em, em) / (q_em_norm * norm(em))) for em in em_batch]\n",
    "    return sorted(zip(sim_scores, range(len(em_batch))), reverse=True)[:topn]\n",
    "    "
   ]
  },
  {
   "cell_type": "code",
   "execution_count": 33,
   "id": "1a347ba8-eb72-4397-9c24-aac54afd8fd4",
   "metadata": {},
   "outputs": [
    {
     "data": {
      "text/plain": [
       "[(0.4840713950279585, 70),\n",
       " (0.4538492897364182, 403),\n",
       " (0.4538492897364182, 402),\n",
       " (0.4538492897364182, 401),\n",
       " (0.45126855137097355, 15),\n",
       " (0.44770406766554227, 285),\n",
       " (0.4310974998604514, 391),\n",
       " (0.4245373067917698, 871),\n",
       " (0.4243153525897992, 524),\n",
       " (0.42323688332239645, 375)]"
      ]
     },
     "execution_count": 33,
     "metadata": {},
     "output_type": "execute_result"
    }
   ],
   "source": [
    "top_sim_chunks = find_top_similar_ones(\"choices of gaming pc\", 10)\n",
    "top_sim_chunks"
   ]
  },
  {
   "cell_type": "code",
   "execution_count": 34,
   "id": "03deaa0d-38e8-45f5-88c5-f6ff27a44299",
   "metadata": {},
   "outputs": [
    {
     "name": "stdout",
     "output_type": "stream",
     "text": [
      "every 6 months and having to upgrade or buy a new one though.\n",
      "NES games/hardware.\n",
      "NES games/hardware.\n",
      "NES games/hardware.\n",
      " awe-inspiring kinds of advancements. Just faster, better resolved, and less laggy rehashings. It seems like the video card has become the dominant piece of hardware, whereas before it was more about the CPU and memory. Upgrading was a yearly chore, when it could be afforded. My friends and I haven't upgraded our setups in half a decade with the exception of video cards. I'm not complaining or condemning anything at all, these are just my observations of how things have changed. That being said, the big box\n",
      "Do you have the latest and greatest hardware to play this game? I've spent a lot of money on PCs through my life.\n",
      "It depends completely on your budget, the android hardware youre looking at and the local plans you have in your area. A lot of the gripes and groans with apple here can be fixed with a jailbroken device, making it a very open ( I would say more open than android) and customisable (if a little buggy on occasion). Also a lot of the bigger better droid hardware is better, but iphone being so widespread is usually cheaper. It comes down to personal preference. If you like games and a massive app store, go with\n",
      "You know, it used to be computer games. For de-stressing purposes, as violent as possible for the sake of increasing the catharsis level.  But actually, whats happened to gaming lately is now a stressor for me, as its yet another one of my hobbies that I am now priced out of nearly completely, to be added to the list containing drinking improbable amounts of rum, playing cricket, and generally pretending to have a way forward in life, rather than simply working to exist. Put another way, until computer game\n",
      "ames or code run poorly on opponents hardware. not to mention intel getting caught in practicing illegal bribery and trade deals to prevent people from buying AMD products.\n",
      "ng a premium for mac- and getting poor hardware. Many PC users, especially gamers, buy on hardware spec vs price so Mac's become a joke.\n"
     ]
    }
   ],
   "source": [
    "for tc in top_sim_chunks:\n",
    "    print(all_chunks[tc[1]])"
   ]
  },
  {
   "cell_type": "code",
   "execution_count": 43,
   "id": "f8456aa7-41d1-4e93-bafa-5bcf6b81042e",
   "metadata": {},
   "outputs": [
    {
     "name": "stdout",
     "output_type": "stream",
     "text": [
      "op (video game reviews/video game culture), lindsay ellis (analyses of pop culture, mainly film and theater)\n",
      "start playing crysis or some other over-the-top-hardware-required-game and fry the shit out of the little bugger EDIT: alternatively start googleing pesticides and see if he gets the hint\n",
      "ut i'm not actually sure if it's true or not\n",
      "every 6 months and having to upgrade or buy a new one though.\n",
      "ors/advisors with frequency, and DO NOT LET THEM tell you to just look it up on X page. They're paid well enough, and you pay enough. Insist on getting it written down. As a former tech salesperson: if you need a laptop for your classes - opt for light. You will curse yourself after you have to stand in the bookstore lineup for 3 hours with 17lbs of laptop on your back. Every time. Go for light if it's possible - and please, don't buy the cheapest system on the table. It's going to break, and it'll suck ass\n",
      " equipment to acess. Furthermore, social media is the highlight reel of history, not the story. Very few people show their true selves in their twitter or Facebook feed. Also a number\n",
      "n + Sun + Renegade Command and Conquer Red Alert 1+2 + Expansions The Sims 1 (maybe 2 ?) Stalker series (though you may want to mod it up which could up the system requirements) Pokemon Zeta/Omnicron and a bunch of other \"fanmade/internet\" games in general.  Edit Edit: just a few more:  Star Wars Republic Commando Diablo 2 + Expansion Warcraft 3 + Expansion Sim City 4 and previous titles (like 2000) Fallout 1+2  And SO many more games... I could go on and on, but I don't know how powerful the pc in question\n",
      "Robots. PirateBox. Game programming. Build an arcade box Build any programs that can be run on tablets/smartphones, even if it is just a web-app tailored for that form factor. Scavenger hunt / spy games where they have to use their IT skills to follow one clue to the next to unravel a bigger puzzle. Could involve everything from building hardware/connections (like your CAT5 wiring) to using terminal commands to navigate a system, to establishing communication between two or more systems. Have multiple teams\n",
      "sting and unforgettable places, gotten really into the history and beauty of the community and have really made some awesome friends. I barely ever game anymore, and I'm much happier for it. only issue is spray paint is so damn expensive\n",
      " purchase and mailed out a tuner to you. I think those retailed for like $300 a piece. I miss that site. For a high school student my time spent there paid way more than my retail job did and it was also a lot more enjoyable.\n"
     ]
    }
   ],
   "source": [
    "top_sim_chunks = find_top_similar_ones(\"acceptable hardware for students\", 10)\n",
    "for tc in top_sim_chunks:\n",
    "    print(all_chunks[tc[1]])"
   ]
  },
  {
   "cell_type": "markdown",
   "id": "fddb96b6-c899-4bc7-a579-46511c8d29f5",
   "metadata": {},
   "source": [
    "## LLM + RAG"
   ]
  },
  {
   "cell_type": "code",
   "execution_count": 5,
   "id": "12fcd9a5-02dd-47a1-aa60-7c661c4e8fd2",
   "metadata": {},
   "outputs": [
    {
     "data": {
      "text/plain": [
       "894"
      ]
     },
     "execution_count": 5,
     "metadata": {},
     "output_type": "execute_result"
    }
   ],
   "source": [
    "import pickle\n",
    "\n",
    "with open('./em_batch.pickle', 'rb') as em_batch_file:\n",
    "    em_batch = pickle.load(em_batch_file)\n",
    "\n",
    "len(em_batch)"
   ]
  },
  {
   "cell_type": "code",
   "execution_count": 6,
   "id": "5228d409-03fe-4fbe-99b3-2d9a3361d739",
   "metadata": {},
   "outputs": [],
   "source": [
    "from langchain_ollama import OllamaLLM\n",
    "\n",
    "model = OllamaLLM(model=\"llama3.1\")"
   ]
  },
  {
   "cell_type": "code",
   "execution_count": 7,
   "id": "bde48bbc-c8fb-4a4b-bfc7-840d479a2ac0",
   "metadata": {},
   "outputs": [],
   "source": [
    "from langchain_core.prompts import ChatPromptTemplate\n",
    "\n",
    "ptemplate = \"\"\"\n",
    "With the conversation context: {context}\n",
    "Please answer {question}\n",
    "\n",
    "\"\"\"\n",
    "\n",
    "prompt = ChatPromptTemplate.from_template(ptemplate)\n",
    "chain = prompt | model"
   ]
  },
  {
   "cell_type": "code",
   "execution_count": 8,
   "id": "0d9c5a99-f022-47e6-942d-e8b96a18fefc",
   "metadata": {},
   "outputs": [],
   "source": [
    "def chat_with_AI():\n",
    "    context = \"\"\n",
    "    print(\"Please say sth.\")\n",
    "    while True:\n",
    "        user_question = input(\"You: \")\n",
    "        if user_question.lower() == \"bye\":\n",
    "            break\n",
    "        result = chain.invoke({\"context\": context, \"question\": user_question})\n",
    "        print(\"AI: \", result)\n",
    "        context += f\"\\n User: {user_question} \\n AI: {result}\""
   ]
  },
  {
   "cell_type": "code",
   "execution_count": 44,
   "id": "65f34bfa-f325-4286-a428-14352e8b3a9f",
   "metadata": {
    "scrolled": true
   },
   "outputs": [
    {
     "name": "stdout",
     "output_type": "stream",
     "text": [
      "Please say sth.\n"
     ]
    },
    {
     "name": "stdout",
     "output_type": "stream",
     "text": [
      "You:  I'd like to set up a gaming computer for Black Myth: Wukong\n"
     ]
    },
    {
     "name": "stdout",
     "output_type": "stream",
     "text": [
      "AI:  Black Myth: Wukong is an upcoming action-adventure game developed by Team Cherry, and it's sure to be a visual powerhouse.\n",
      "\n",
      "To set up a gaming computer that can handle the game smoothly, we'll need to consider the system requirements. Here are some guidelines:\n",
      "\n",
      "**Recommended System Requirements:**\n",
      "\n",
      "* Operating System: Windows 10 (64-bit)\n",
      "* Processor: AMD Ryzen 5 or Intel Core i5\n",
      "* Memory: 16 GB DDR4 RAM\n",
      "* Graphics Card: NVIDIA GeForce GTX 1660 Super or AMD Radeon RX 5600 XT\n",
      "* Storage: 256 GB SSD (solid-state drive)\n",
      "\n",
      "**Optional Upgrades:**\n",
      "\n",
      "* To achieve even smoother performance, consider upgrading to:\n",
      "\t+ A higher-end CPU like the AMD Ryzen 9 or Intel Core i7.\n",
      "\t+ More RAM, up to 32 GB if you can afford it.\n",
      "\t+ A better graphics card, such as an NVIDIA GeForce RTX 3060 or AMD Radeon RX 6800 XT.\n",
      "\n",
      "**Additional Tips:**\n",
      "\n",
      "* Make sure your computer's BIOS is updated to the latest version.\n",
      "* Ensure that your Windows installation is clean and free from any malware.\n",
      "* Consider installing a fresh copy of Windows if you're upgrading from an older OS.\n",
      "* If you have any other demanding games or applications running on your PC, consider prioritizing their system requirements when configuring your gaming rig.\n",
      "\n",
      "How's your current computer setup? Are there any specific components you'd like to upgrade or replace?\n"
     ]
    },
    {
     "name": "stdout",
     "output_type": "stream",
     "text": [
      "You:  any recommendations for a school student with a very limited budget?\n"
     ]
    },
    {
     "name": "stdout",
     "output_type": "stream",
     "text": [
      "AI:  As a school student with a very limited budget, I'm trying to set up a gaming computer without breaking the bank. \n",
      "\n",
      "Here's my current setup:\n",
      "\n",
      "* Operating System: Windows 10 (64-bit) - already installed\n",
      "* Processor: AMD A8-6410 APU (not the best, but it'll do)\n",
      "* Memory: 4 GB DDR3 RAM (very low, I know!)\n",
      "* Graphics Card: Integrated graphics (not ideal for gaming, unfortunately)\n",
      "* Storage: 500 GB HDD (slow and old)\n",
      "\n",
      "Given my limited budget, I'd like to prioritize upgrades that will give me the best bang for my buck. Considering the recommended system requirements you provided earlier, I think upgrading my RAM to at least 16 GB DDR4 would be a huge improvement.\n",
      "\n",
      "I was thinking of adding more RAM instead of upgrading to a higher-end CPU or graphics card just yet. Would it be possible to run Black Myth: Wukong smoothly with 16 GB RAM and the current A8-6410 processor? Or should I consider upgrading my processor as well?\n",
      "\n",
      "Also, are there any budget-friendly options for storage that I could consider instead of a high-end SSD like the one recommended? Maybe something around $50-$70?\n"
     ]
    },
    {
     "name": "stdout",
     "output_type": "stream",
     "text": [
      "You:  bye\n"
     ]
    }
   ],
   "source": [
    "chat_with_AI()"
   ]
  },
  {
   "cell_type": "code",
   "execution_count": null,
   "id": "682b747f-97d3-4fdf-816e-92b1b423fdb6",
   "metadata": {},
   "outputs": [],
   "source": []
  },
  {
   "cell_type": "code",
   "execution_count": 45,
   "id": "dab5cb0e-ea6a-49d2-903d-25467fa7610a",
   "metadata": {},
   "outputs": [],
   "source": [
    "def chat_with_AI_RAG():\n",
    "    context = \"\"\n",
    "    print(\"Please say sth.\")\n",
    "    while True:\n",
    "        user_question = input(\"You: \")\n",
    "        if user_question.lower() == \"bye\":\n",
    "            break\n",
    "        \n",
    "        top_sim_chunks = find_top_similar_ones(user_question, 10)\n",
    "        for tc in top_sim_chunks:\n",
    "            context += f\"\\n AI: {all_chunks[tc[1]]}\"\n",
    "        \n",
    "        result = chain.invoke({\"context\": context, \"question\": user_question})\n",
    "        print(\"AI: \", result)\n",
    "        context += f\"\\n User: {user_question} \\n AI: {result}\""
   ]
  },
  {
   "cell_type": "code",
   "execution_count": 46,
   "id": "e5c9ee9f-5909-4b3a-bcb9-05a3c860d11a",
   "metadata": {},
   "outputs": [
    {
     "name": "stdout",
     "output_type": "stream",
     "text": [
      "Please say sth.\n"
     ]
    },
    {
     "name": "stdout",
     "output_type": "stream",
     "text": [
      "You:  I'd like to set up a gaming computer for Black Myth: Wukong\n"
     ]
    },
    {
     "name": "stdout",
     "output_type": "stream",
     "text": [
      "AI:  Based on your conversation history, I'm assuming you're looking to build or upgrade a gaming PC. I'll provide some general advice, but feel free to specify what you know and don't know about your current hardware.\n",
      "\n",
      "Considering the games you've mentioned, such as Super Mario Brothers 3, Transport Tycoon, Fallout New Vegas, and Black Myth: Wukong, it seems like you're interested in playing a mix of retro-style games, strategy titles, and possibly some action-adventure games. I'll provide some general guidelines for building or upgrading a gaming PC that can handle these types of games.\n",
      "\n",
      "**Minimum Requirements**\n",
      "\n",
      "For Black Myth: Wukong, which is an upcoming action-adventure game with impressive graphics, you might want to aim for the following minimum specs:\n",
      "\n",
      "* CPU: Intel Core i5-11400F (or AMD Ryzen 5 5600X)\n",
      "* GPU: NVIDIA GeForce GTX 1660 Super (or AMD Radeon RX 5600 XT)\n",
      "* RAM: 16 GB DDR4\n",
      "* Storage: 512 GB NVMe SSD\n",
      "\n",
      "**Recommended Upgrades**\n",
      "\n",
      "If you want to future-proof your gaming PC for more demanding games, consider upgrading:\n",
      "\n",
      "* CPU: Intel Core i7-11700K (or AMD Ryzen 9 5900X)\n",
      "* GPU: NVIDIA GeForce RTX 3070 (or AMD Radeon RX 6700 XT)\n",
      "* RAM: 32 GB DDR4\n",
      "* Storage: 1 TB NVMe SSD\n",
      "\n",
      "**Additional Tips**\n",
      "\n",
      "* Make sure your power supply unit (PSU) can handle the new hardware. Aim for a PSU with a wattage of at least 650 W.\n",
      "* Consider investing in a good quality motherboard that supports your chosen CPU and has features like Wi-Fi, USB ports, and high-quality audio.\n",
      "* If you're planning to upgrade your GPU, ensure your motherboard supports it.\n",
      "\n",
      "**Your Turn**\n",
      "\n",
      "Please let me know:\n",
      "\n",
      "1. What's your current hardware setup (CPU, GPU, RAM, Storage)?\n",
      "2. Do you have a specific budget in mind for the upgrades?\n",
      "3. Are there any other components you'd like to upgrade or change?\n",
      "\n",
      "Feel free to provide more information about your gaming preferences and what you're looking to achieve with this build!\n"
     ]
    },
    {
     "name": "stdout",
     "output_type": "stream",
     "text": [
      "You:  any recommendations for a school student with a very limited budget?\n"
     ]
    },
    {
     "name": "stdout",
     "output_type": "stream",
     "text": [
      "AI:  Given your interest in gaming, hardware, and software, but also considering your limited budget as a school student, here are some recommendations:\n",
      "\n",
      "**Budget-Friendly Options**\n",
      "\n",
      "1. **Refurbished or second-hand hardware**: You can find refurbished or used gaming PCs, laptops, or consoles online or locally. Make sure to check the warranty and condition before purchasing.\n",
      "2. **Discounted new hardware**: Keep an eye on sales, discounts, or promotions from retailers like Newegg, Amazon, or Best Buy. You might be able to snag a deal on a brand-new piece of hardware.\n",
      "3. **Budget-friendly gaming PCs**: Look for pre-built gaming PCs that are specifically designed for budget-conscious buyers. Some popular options include the CyberpowerPC Gamer Supreme SLC840 or the SkyTech Archon GT.\n",
      "4. **Laptop upgrades**: If you already have a laptop, consider upgrading its RAM, storage, or GPU to breathe new life into it.\n",
      "\n",
      "**Software and Games**\n",
      "\n",
      "1. **Free and open-source games**: Explore free games like Open Transport Tycoon Deluxe, which we discussed earlier.\n",
      "2. **Steam sales**: Take advantage of Steam's regular sales on games. You can often find deep discounts on popular titles.\n",
      "3. **Indie games**: Look for indie game developers who offer affordable or even free games. Some popular options include the Humble Bundle or GOG.com.\n",
      "\n",
      "**Learning and Community**\n",
      "\n",
      "1. **Online forums and communities**: Join online forums, social media groups, or Reddit communities dedicated to gaming, hardware, and software. You can learn from others, get advice, and share your own experiences.\n",
      "2. **YouTube tutorials**: Watch YouTube tutorials and guides on building and upgrading PCs, consoles, or laptops. These can be incredibly helpful for learning new skills.\n",
      "3. **School programs or clubs**: If possible, explore school programs or clubs focused on gaming, computer science, or engineering. You might find like-minded students or mentors who can guide you.\n",
      "\n",
      "Remember to prioritize your financial responsibilities, and make sure you have a solid understanding of the costs involved before making any purchases. Happy learning and gaming!\n"
     ]
    },
    {
     "name": "stdout",
     "output_type": "stream",
     "text": [
      "You:  bye\n"
     ]
    }
   ],
   "source": [
    "chat_with_AI_RAG()"
   ]
  },
  {
   "cell_type": "code",
   "execution_count": null,
   "id": "e6ce9594-4793-4510-847e-b9149ff1ae2c",
   "metadata": {},
   "outputs": [],
   "source": []
  }
 ],
 "metadata": {
  "kernelspec": {
   "display_name": "base",
   "language": "python",
   "name": "python3"
  },
  "language_info": {
   "codemirror_mode": {
    "name": "ipython",
    "version": 3
   },
   "file_extension": ".py",
   "mimetype": "text/x-python",
   "name": "python",
   "nbconvert_exporter": "python",
   "pygments_lexer": "ipython3",
   "version": "3.12.3"
  }
 },
 "nbformat": 4,
 "nbformat_minor": 5
}
