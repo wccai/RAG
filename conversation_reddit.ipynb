{
 "cells": [
  {
   "cell_type": "code",
   "execution_count": 1,
   "id": "0e7afcd8-2548-4af6-af43-f16a09449853",
   "metadata": {},
   "outputs": [],
   "source": [
    "# conda/pip install langchain\n",
    "# conda/pip install langchain-ollama\n",
    "# conda/pip install llama-index\n"
   ]
  },
  {
   "cell_type": "markdown",
   "id": "0ce16ca6-8762-403f-8dfc-4821fb0ea7b6",
   "metadata": {},
   "source": [
    "## Preprocess a Reddit dataset\n",
    "\n",
    "Reddit dataset url: : https://www.kaggle.com/datasets/rodmcn/askreddit-questions-and-answers/data"
   ]
  },
  {
   "cell_type": "code",
   "execution_count": null,
   "id": "b927f93d-7bc9-4a88-b0e4-b7b775bfae24",
   "metadata": {},
   "outputs": [],
   "source": [
    "\n",
    "import polars as pl\n",
    "import numpy as np\n",
    "import ollama\n",
    "import llama_index\n",
    "from llama_index.embeddings.ollama import OllamaEmbedding\n",
    "\n",
    "ollama_embedding = OllamaEmbedding(model_name=\"llama3.1\") "
   ]
  },
  {
   "cell_type": "code",
   "execution_count": 3,
   "id": "2def34aa-0730-4ca0-819a-b0227400a455",
   "metadata": {},
   "outputs": [
    {
     "data": {
      "text/html": [
       "<div><style>\n",
       ".dataframe > thead > tr,\n",
       ".dataframe > tbody > tr {\n",
       "  text-align: right;\n",
       "  white-space: pre-wrap;\n",
       "}\n",
       "</style>\n",
       "<small>shape: (5_777_453, 4)</small><table border=\"1\" class=\"dataframe\"><thead><tr><th></th><th>q_id</th><th>text</th><th>votes</th></tr><tr><td>i64</td><td>str</td><td>str</td><td>f64</td></tr></thead><tbody><tr><td>0</td><td>&quot;hvbvpz&quot;</td><td>&quot;Two pet ducks. You may be temp…</td><td>2359.0</td></tr><tr><td>1</td><td>&quot;hvbvpz&quot;</td><td>&quot;Nice try Jeff Bezos&quot;</td><td>764.0</td></tr><tr><td>2</td><td>&quot;hvbvpz&quot;</td><td>&quot;A curved shower rod. Seriously…</td><td>1525.0</td></tr><tr><td>3</td><td>&quot;hvbvpz&quot;</td><td>&quot;Another monitor. Your producti…</td><td>1227.0</td></tr><tr><td>4</td><td>&quot;hvbvpz&quot;</td><td>&quot;A nasal irrigation kit - eithe…</td><td>659.0</td></tr><tr><td>&hellip;</td><td>&hellip;</td><td>&hellip;</td><td>&hellip;</td></tr><tr><td>5940821</td><td>&quot;3kf27v&quot;</td><td>&quot;Money is the most important th…</td><td>4.0</td></tr><tr><td>5940823</td><td>&quot;3kf27v&quot;</td><td>&quot;&quot;&quot;If you can&#x27;t learn how to sh…</td><td>6.0</td></tr><tr><td>5940824</td><td>&quot;3kf27v&quot;</td><td>&quot;Everyone in college writes in …</td><td>5.0</td></tr><tr><td>5940825</td><td>&quot;3kf27v&quot;</td><td>&quot;&quot;&quot;Everything happens for a rea…</td><td>7.0</td></tr><tr><td>5940826</td><td>&quot;3kf27v&quot;</td><td>&quot;probably the whole ~money does…</td><td>7.0</td></tr></tbody></table></div>"
      ],
      "text/plain": [
       "shape: (5_777_453, 4)\n",
       "┌─────────┬────────┬─────────────────────────────────┬────────┐\n",
       "│         ┆ q_id   ┆ text                            ┆ votes  │\n",
       "│ ---     ┆ ---    ┆ ---                             ┆ ---    │\n",
       "│ i64     ┆ str    ┆ str                             ┆ f64    │\n",
       "╞═════════╪════════╪═════════════════════════════════╪════════╡\n",
       "│ 0       ┆ hvbvpz ┆ Two pet ducks. You may be temp… ┆ 2359.0 │\n",
       "│ 1       ┆ hvbvpz ┆ Nice try Jeff Bezos             ┆ 764.0  │\n",
       "│ 2       ┆ hvbvpz ┆ A curved shower rod. Seriously… ┆ 1525.0 │\n",
       "│ 3       ┆ hvbvpz ┆ Another monitor. Your producti… ┆ 1227.0 │\n",
       "│ 4       ┆ hvbvpz ┆ A nasal irrigation kit - eithe… ┆ 659.0  │\n",
       "│ …       ┆ …      ┆ …                               ┆ …      │\n",
       "│ 5940821 ┆ 3kf27v ┆ Money is the most important th… ┆ 4.0    │\n",
       "│ 5940823 ┆ 3kf27v ┆ \"\"If you can't learn how to sh… ┆ 6.0    │\n",
       "│ 5940824 ┆ 3kf27v ┆ Everyone in college writes in … ┆ 5.0    │\n",
       "│ 5940825 ┆ 3kf27v ┆ \"\"Everything happens for a rea… ┆ 7.0    │\n",
       "│ 5940826 ┆ 3kf27v ┆ probably the whole ~money does… ┆ 7.0    │\n",
       "└─────────┴────────┴─────────────────────────────────┴────────┘"
      ]
     },
     "execution_count": 3,
     "metadata": {},
     "output_type": "execute_result"
    }
   ],
   "source": [
    "df = pl.read_csv('./data/reddit_answers_long.csv', separator=';')\n",
    "df"
   ]
  },
  {
   "cell_type": "code",
   "execution_count": 4,
   "id": "86647fd2-d2e2-42f5-aeba-229040ac39ba",
   "metadata": {
    "scrolled": true
   },
   "outputs": [
    {
     "data": {
      "text/html": [
       "<div><style>\n",
       ".dataframe > thead > tr,\n",
       ".dataframe > tbody > tr {\n",
       "  text-align: right;\n",
       "  white-space: pre-wrap;\n",
       "}\n",
       "</style>\n",
       "<small>shape: (5_777_453, 5)</small><table border=\"1\" class=\"dataframe\"><thead><tr><th></th><th>q_id</th><th>text</th><th>votes</th><th>answer_len_in_char</th></tr><tr><td>i64</td><td>str</td><td>str</td><td>f64</td><td>i32</td></tr></thead><tbody><tr><td>242329</td><td>&quot;erd482&quot;</td><td>&quot;It&#x27;s nearly the beginning of a…</td><td>2.0</td><td>4564852</td></tr><tr><td>3571290</td><td>&quot;hf4cta&quot;</td><td>&quot;Me: I think that in order to s…</td><td>4.0</td><td>2906243</td></tr><tr><td>2770234</td><td>&quot;nslkd/&quot;</td><td>&quot;What if he has to go poop?  Ah…</td><td>1.0</td><td>2154598</td></tr><tr><td>4785025</td><td>&quot;su8sn/&quot;</td><td>&quot;(and its not unusual for my co…</td><td>3.0</td><td>1891855</td></tr><tr><td>5551815</td><td>&quot;iptrin&quot;</td><td>&quot;\\ it&#x27;s never the same spot on …</td><td>45.0</td><td>1819715</td></tr><tr><td>&hellip;</td><td>&hellip;</td><td>&hellip;</td><td>&hellip;</td><td>&hellip;</td></tr><tr><td>5909814</td><td>&quot;j2dozl&quot;</td><td>&quot;E&quot;</td><td>3.0</td><td>1</td></tr><tr><td>5912551</td><td>&quot;1cfbzg&quot;</td><td>&quot;.&quot;</td><td>14.0</td><td>1</td></tr><tr><td>5913158</td><td>&quot;g4fslr&quot;</td><td>&quot;K&quot;</td><td>3.0</td><td>1</td></tr><tr><td>5917507</td><td>&quot;hb2uy9&quot;</td><td>&quot;K&quot;</td><td>39.0</td><td>1</td></tr><tr><td>5918922</td><td>&quot;dkpz72&quot;</td><td>&quot;2&quot;</td><td>2.0</td><td>1</td></tr></tbody></table></div>"
      ],
      "text/plain": [
       "shape: (5_777_453, 5)\n",
       "┌─────────┬────────┬─────────────────────────────────┬───────┬────────────────────┐\n",
       "│         ┆ q_id   ┆ text                            ┆ votes ┆ answer_len_in_char │\n",
       "│ ---     ┆ ---    ┆ ---                             ┆ ---   ┆ ---                │\n",
       "│ i64     ┆ str    ┆ str                             ┆ f64   ┆ i32                │\n",
       "╞═════════╪════════╪═════════════════════════════════╪═══════╪════════════════════╡\n",
       "│ 242329  ┆ erd482 ┆ It's nearly the beginning of a… ┆ 2.0   ┆ 4564852            │\n",
       "│ 3571290 ┆ hf4cta ┆ Me: I think that in order to s… ┆ 4.0   ┆ 2906243            │\n",
       "│ 2770234 ┆ nslkd/ ┆ What if he has to go poop?  Ah… ┆ 1.0   ┆ 2154598            │\n",
       "│ 4785025 ┆ su8sn/ ┆ (and its not unusual for my co… ┆ 3.0   ┆ 1891855            │\n",
       "│ 5551815 ┆ iptrin ┆ \\ it's never the same spot on … ┆ 45.0  ┆ 1819715            │\n",
       "│ …       ┆ …      ┆ …                               ┆ …     ┆ …                  │\n",
       "│ 5909814 ┆ j2dozl ┆ E                               ┆ 3.0   ┆ 1                  │\n",
       "│ 5912551 ┆ 1cfbzg ┆ .                               ┆ 14.0  ┆ 1                  │\n",
       "│ 5913158 ┆ g4fslr ┆ K                               ┆ 3.0   ┆ 1                  │\n",
       "│ 5917507 ┆ hb2uy9 ┆ K                               ┆ 39.0  ┆ 1                  │\n",
       "│ 5918922 ┆ dkpz72 ┆ 2                               ┆ 2.0   ┆ 1                  │\n",
       "└─────────┴────────┴─────────────────────────────────┴───────┴────────────────────┘"
      ]
     },
     "execution_count": 4,
     "metadata": {},
     "output_type": "execute_result"
    }
   ],
   "source": [
    "df_sorted = df.with_columns(pl.col('text').map_elements(lambda x: len(x), return_dtype=pl.Int32).alias('answer_len_in_char')) \\\n",
    "    .sort('answer_len_in_char', descending=True)\n",
    "df_sorted"
   ]
  },
  {
   "cell_type": "code",
   "execution_count": 5,
   "id": "abb420a5-81ac-4130-810c-db87ddd17a34",
   "metadata": {},
   "outputs": [],
   "source": [
    "# split into chunks to improve the effectiveness and efficiency \n",
    "def split_text_into_chunks(text, chunk_size=512):\n",
    "    return [text[i:i+chunk_size] for i in range(0, len(text), chunk_size)]"
   ]
  },
  {
   "cell_type": "code",
   "execution_count": 6,
   "id": "b44f9758-5a85-4f53-9dab-6b9bb4cee4fe",
   "metadata": {},
   "outputs": [
    {
     "name": "stdout",
     "output_type": "stream",
     "text": [
      "6830889\n",
      "CPU times: total: 3.59 s\n",
      "Wall time: 9.79 s\n"
     ]
    }
   ],
   "source": [
    "%%time\n",
    "\n",
    "all_chunks = []\n",
    "for row in df_sorted.rows():\n",
    "    long_txt = row[2]\n",
    "    chunks = split_text_into_chunks(long_txt, chunk_size=512)\n",
    "    all_chunks.extend(chunks)\n",
    "\n",
    "print(len(all_chunks))"
   ]
  },
  {
   "cell_type": "code",
   "execution_count": 7,
   "id": "0f944dbd-b432-45f5-9cea-ff3d67d5c4eb",
   "metadata": {},
   "outputs": [],
   "source": [
    "# overall text is too large to handle in a laptop\n",
    "# em_batch = ollama_embedding.get_text_embedding_batch(all_chunks, show_progress=True)"
   ]
  },
  {
   "cell_type": "markdown",
   "id": "758e7188-9e19-48c4-a346-aede0eb05283",
   "metadata": {},
   "source": [
    "## Sample some related answers from this Reddit dataset\n",
    "\n",
    "Due to the limited GPU resource, only a sample of text is used for later tasks."
   ]
  },
  {
   "cell_type": "code",
   "execution_count": 8,
   "id": "650b2a7f-20ca-49d1-9a22-d98fe53a3eef",
   "metadata": {},
   "outputs": [
    {
     "data": {
      "text/html": [
       "<div><style>\n",
       ".dataframe > thead > tr,\n",
       ".dataframe > tbody > tr {\n",
       "  text-align: right;\n",
       "  white-space: pre-wrap;\n",
       "}\n",
       "</style>\n",
       "<small>shape: (254, 4)</small><table border=\"1\" class=\"dataframe\"><thead><tr><th></th><th>q_id</th><th>text</th><th>votes</th></tr><tr><td>i64</td><td>str</td><td>str</td><td>f64</td></tr></thead><tbody><tr><td>30669</td><td>&quot;clwnoc&quot;</td><td>&quot;&quot;In the late 1980s Nintendo an…</td><td>1606.0</td></tr><tr><td>53052</td><td>&quot;epj100&quot;</td><td>&quot;Do you like dungeon-diving? Do…</td><td>187.0</td></tr><tr><td>55547</td><td>&quot;b7ssbh&quot;</td><td>&quot;There are CPUs that can change…</td><td>336.0</td></tr><tr><td>68751</td><td>&quot;i5htyn&quot;</td><td>&quot;Any action/invasion/war movie/…</td><td>774.0</td></tr><tr><td>70275</td><td>&quot;grh52m&quot;</td><td>&quot;My younger brother held a magn…</td><td>272.0</td></tr><tr><td>&hellip;</td><td>&hellip;</td><td>&hellip;</td><td>&hellip;</td></tr><tr><td>5854144</td><td>&quot;fgwmq2&quot;</td><td>&quot;I decided I was finally going …</td><td>34.0</td></tr><tr><td>5868868</td><td>&quot;efglq9&quot;</td><td>&quot;There can be no end all game, …</td><td>3.0</td></tr><tr><td>5877450</td><td>&quot;5u8pou&quot;</td><td>&quot;&quot;1/5. Remember the days of the…</td><td>2.0</td></tr><tr><td>5878261</td><td>&quot;191r2k&quot;</td><td>&quot;EEAECO.com gives student disco…</td><td>7.0</td></tr><tr><td>5894177</td><td>&quot;1tsfyd&quot;</td><td>&quot;CPR instructor/EMT here! Thoug…</td><td>215.0</td></tr></tbody></table></div>"
      ],
      "text/plain": [
       "shape: (254, 4)\n",
       "┌─────────┬────────┬─────────────────────────────────┬────────┐\n",
       "│         ┆ q_id   ┆ text                            ┆ votes  │\n",
       "│ ---     ┆ ---    ┆ ---                             ┆ ---    │\n",
       "│ i64     ┆ str    ┆ str                             ┆ f64    │\n",
       "╞═════════╪════════╪═════════════════════════════════╪════════╡\n",
       "│ 30669   ┆ clwnoc ┆ \"In the late 1980s Nintendo an… ┆ 1606.0 │\n",
       "│ 53052   ┆ epj100 ┆ Do you like dungeon-diving? Do… ┆ 187.0  │\n",
       "│ 55547   ┆ b7ssbh ┆ There are CPUs that can change… ┆ 336.0  │\n",
       "│ 68751   ┆ i5htyn ┆ Any action/invasion/war movie/… ┆ 774.0  │\n",
       "│ 70275   ┆ grh52m ┆ My younger brother held a magn… ┆ 272.0  │\n",
       "│ …       ┆ …      ┆ …                               ┆ …      │\n",
       "│ 5854144 ┆ fgwmq2 ┆ I decided I was finally going … ┆ 34.0   │\n",
       "│ 5868868 ┆ efglq9 ┆ There can be no end all game, … ┆ 3.0    │\n",
       "│ 5877450 ┆ 5u8pou ┆ \"1/5. Remember the days of the… ┆ 2.0    │\n",
       "│ 5878261 ┆ 191r2k ┆ EEAECO.com gives student disco… ┆ 7.0    │\n",
       "│ 5894177 ┆ 1tsfyd ┆ CPR instructor/EMT here! Thoug… ┆ 215.0  │\n",
       "└─────────┴────────┴─────────────────────────────────┴────────┘"
      ]
     },
     "execution_count": 8,
     "metadata": {},
     "output_type": "execute_result"
    }
   ],
   "source": [
    "# related answer with key words: game hardware\n",
    "df_game_hardware = df.filter((pl.col('text').str.contains('game')) & (pl.col('text').str.contains('hardware')))\n",
    "df_game_hardware"
   ]
  },
  {
   "cell_type": "code",
   "execution_count": 9,
   "id": "298a9a10-72ea-4554-905a-07901d97362d",
   "metadata": {},
   "outputs": [
    {
     "name": "stdout",
     "output_type": "stream",
     "text": [
      "894\n",
      "CPU times: total: 93.8 ms\n",
      "Wall time: 355 ms\n"
     ]
    }
   ],
   "source": [
    "%%time\n",
    "\n",
    "all_chunks = []\n",
    "for row in df_game_hardware.rows():\n",
    "    long_txt = row[2][:5120]\n",
    "    # print(len(long_txt))\n",
    "    chunks = split_text_into_chunks(long_txt, chunk_size=512)\n",
    "    all_chunks.extend(chunks)\n",
    "\n",
    "print(len(all_chunks))"
   ]
  },
  {
   "cell_type": "code",
   "execution_count": 10,
   "id": "7e5b077f-dfb3-4f68-8a5c-9ae50e5dbd36",
   "metadata": {},
   "outputs": [
    {
     "data": {
      "application/vnd.jupyter.widget-view+json": {
       "model_id": "380ed7aa20ad490f965dbbe889cb8e57",
       "version_major": 2,
       "version_minor": 0
      },
      "text/plain": [
       "Generating embeddings:   0%|          | 0/894 [00:00<?, ?it/s]"
      ]
     },
     "metadata": {},
     "output_type": "display_data"
    }
   ],
   "source": [
    "em_batch = ollama_embedding.get_text_embedding_batch(all_chunks, show_progress=True)"
   ]
  },
  {
   "cell_type": "code",
   "execution_count": 11,
   "id": "0d4b69d4-c23c-44e5-9f6b-132e948e0d62",
   "metadata": {},
   "outputs": [
    {
     "data": {
      "text/plain": [
       "[-2.517793655395508,\n",
       " -1.9537627696990967,\n",
       " -3.294511318206787,\n",
       " 0.14879542589187622,\n",
       " 5.603634834289551,\n",
       " 1.1601753234863281,\n",
       " -0.6537939310073853,\n",
       " -1.8276612758636475,\n",
       " -3.081853151321411,\n",
       " -1.9861308336257935]"
      ]
     },
     "execution_count": 11,
     "metadata": {},
     "output_type": "execute_result"
    }
   ],
   "source": [
    "# check the embedding of the first 10 tokens in the first batch\n",
    "em_batch[0][:10]"
   ]
  },
  {
   "cell_type": "code",
   "execution_count": 12,
   "id": "1f5ff750-da94-48d4-a0f9-54ba2dd997f6",
   "metadata": {},
   "outputs": [],
   "source": [
    "import pickle\n",
    "\n",
    "with open('./em_batch.pickle', 'wb') as em_batch_file:\n",
    "    pickle.dump(em_batch, em_batch_file)"
   ]
  },
  {
   "cell_type": "code",
   "execution_count": 13,
   "id": "4e684da1-7727-434e-a332-25a381a8485c",
   "metadata": {},
   "outputs": [],
   "source": [
    "em2chunkid = {}\n",
    "for i, em in enumerate(em_batch):\n",
    "    em2chunkid.update({str(em):i})"
   ]
  },
  {
   "cell_type": "code",
   "execution_count": 14,
   "id": "6ff3ab69-ea92-46a7-9d5b-098bc0ede643",
   "metadata": {},
   "outputs": [],
   "source": [
    "import numpy as np\n",
    "from numpy.linalg import norm\n",
    "\n",
    "#  use cos similarity to find top similar ones\n",
    "def find_top_similar_ones(question: str, topn: int):\n",
    "    q_em = ollama_embedding.get_query_embedding(question)\n",
    "    q_em_norm = norm(q_em)\n",
    "    sim_scores = [(np.dot(q_em, em) / (q_em_norm * norm(em))) for em in em_batch]\n",
    "    return sorted(zip(sim_scores, range(len(em_batch))), reverse=True)[:topn]\n",
    "    "
   ]
  },
  {
   "cell_type": "code",
   "execution_count": 15,
   "id": "1a347ba8-eb72-4397-9c24-aac54afd8fd4",
   "metadata": {},
   "outputs": [
    {
     "data": {
      "text/plain": [
       "[(0.48674594466955334, 70),\n",
       " (0.45819718061900566, 403),\n",
       " (0.45819718061900566, 402),\n",
       " (0.45819718061900566, 401),\n",
       " (0.4534215338555377, 15),\n",
       " (0.4496664370211112, 285),\n",
       " (0.4279581000087091, 871),\n",
       " (0.4258743637389518, 391),\n",
       " (0.42385206006902476, 3),\n",
       " (0.4228706963397614, 524)]"
      ]
     },
     "execution_count": 15,
     "metadata": {},
     "output_type": "execute_result"
    }
   ],
   "source": [
    "top_sim_chunks = find_top_similar_ones(\"choices of gaming pc\", 10)\n",
    "top_sim_chunks"
   ]
  },
  {
   "cell_type": "code",
   "execution_count": 16,
   "id": "03deaa0d-38e8-45f5-88c5-f6ff27a44299",
   "metadata": {},
   "outputs": [
    {
     "name": "stdout",
     "output_type": "stream",
     "text": [
      "every 6 months and having to upgrade or buy a new one though.\n",
      "NES games/hardware.\n",
      "NES games/hardware.\n",
      "NES games/hardware.\n",
      " awe-inspiring kinds of advancements. Just faster, better resolved, and less laggy rehashings. It seems like the video card has become the dominant piece of hardware, whereas before it was more about the CPU and memory. Upgrading was a yearly chore, when it could be afforded. My friends and I haven't upgraded our setups in half a decade with the exception of video cards. I'm not complaining or condemning anything at all, these are just my observations of how things have changed. That being said, the big box\n",
      "Do you have the latest and greatest hardware to play this game? I've spent a lot of money on PCs through my life.\n",
      "You know, it used to be computer games. For de-stressing purposes, as violent as possible for the sake of increasing the catharsis level.  But actually, whats happened to gaming lately is now a stressor for me, as its yet another one of my hobbies that I am now priced out of nearly completely, to be added to the list containing drinking improbable amounts of rum, playing cricket, and generally pretending to have a way forward in life, rather than simply working to exist. Put another way, until computer game\n",
      "It depends completely on your budget, the android hardware youre looking at and the local plans you have in your area. A lot of the gripes and groans with apple here can be fixed with a jailbroken device, making it a very open ( I would say more open than android) and customisable (if a little buggy on occasion). Also a lot of the bigger better droid hardware is better, but iphone being so widespread is usually cheaper. It comes down to personal preference. If you like games and a massive app store, go with\n",
      "old, and uncover a secret plot that might destroy the world set back your profit margins. Play Recettear: An Item Shop's Tale now!\n",
      "ames or code run poorly on opponents hardware. not to mention intel getting caught in practicing illegal bribery and trade deals to prevent people from buying AMD products.\n"
     ]
    }
   ],
   "source": [
    "for tc in top_sim_chunks:\n",
    "    print(all_chunks[tc[1]])"
   ]
  },
  {
   "cell_type": "code",
   "execution_count": 17,
   "id": "f8456aa7-41d1-4e93-bafa-5bcf6b81042e",
   "metadata": {},
   "outputs": [
    {
     "name": "stdout",
     "output_type": "stream",
     "text": [
      "op (video game reviews/video game culture), lindsay ellis (analyses of pop culture, mainly film and theater)\n",
      "start playing crysis or some other over-the-top-hardware-required-game and fry the shit out of the little bugger EDIT: alternatively start googleing pesticides and see if he gets the hint\n",
      "ut i'm not actually sure if it's true or not\n",
      " equipment to acess. Furthermore, social media is the highlight reel of history, not the story. Very few people show their true selves in their twitter or Facebook feed. Also a number\n",
      "every 6 months and having to upgrade or buy a new one though.\n",
      "ors/advisors with frequency, and DO NOT LET THEM tell you to just look it up on X page. They're paid well enough, and you pay enough. Insist on getting it written down. As a former tech salesperson: if you need a laptop for your classes - opt for light. You will curse yourself after you have to stand in the bookstore lineup for 3 hours with 17lbs of laptop on your back. Every time. Go for light if it's possible - and please, don't buy the cheapest system on the table. It's going to break, and it'll suck ass\n",
      "n + Sun + Renegade Command and Conquer Red Alert 1+2 + Expansions The Sims 1 (maybe 2 ?) Stalker series (though you may want to mod it up which could up the system requirements) Pokemon Zeta/Omnicron and a bunch of other \"fanmade/internet\" games in general.  Edit Edit: just a few more:  Star Wars Republic Commando Diablo 2 + Expansion Warcraft 3 + Expansion Sim City 4 and previous titles (like 2000) Fallout 1+2  And SO many more games... I could go on and on, but I don't know how powerful the pc in question\n",
      "Robots. PirateBox. Game programming. Build an arcade box Build any programs that can be run on tablets/smartphones, even if it is just a web-app tailored for that form factor. Scavenger hunt / spy games where they have to use their IT skills to follow one clue to the next to unravel a bigger puzzle. Could involve everything from building hardware/connections (like your CAT5 wiring) to using terminal commands to navigate a system, to establishing communication between two or more systems. Have multiple teams\n",
      "old, and uncover a secret plot that might destroy the world set back your profit margins. Play Recettear: An Item Shop's Tale now!\n",
      "sting and unforgettable places, gotten really into the history and beauty of the community and have really made some awesome friends. I barely ever game anymore, and I'm much happier for it. only issue is spray paint is so damn expensive\n"
     ]
    }
   ],
   "source": [
    "top_sim_chunks = find_top_similar_ones(\"acceptable hardware for students\", 10)\n",
    "for tc in top_sim_chunks:\n",
    "    print(all_chunks[tc[1]])"
   ]
  },
  {
   "cell_type": "markdown",
   "id": "fddb96b6-c899-4bc7-a579-46511c8d29f5",
   "metadata": {},
   "source": [
    "## LLM + RAG\n",
    "\n",
    "Ask the following questions,\n",
    "\n",
    "* I'd like to set up a gaming computer for Black Myth: Wukong\n",
    "* any recommendations for a school student with a very limited budget?\n",
    "\n",
    "Compare the answer from LLM without RAG and with RAG, the latter answer is better because of the additional knowledge provided by Reddit."
   ]
  },
  {
   "cell_type": "code",
   "execution_count": 18,
   "id": "12fcd9a5-02dd-47a1-aa60-7c661c4e8fd2",
   "metadata": {},
   "outputs": [
    {
     "data": {
      "text/plain": [
       "894"
      ]
     },
     "execution_count": 18,
     "metadata": {},
     "output_type": "execute_result"
    }
   ],
   "source": [
    "import pickle\n",
    "\n",
    "with open('./em_batch.pickle', 'rb') as em_batch_file:\n",
    "    em_batch = pickle.load(em_batch_file)\n",
    "\n",
    "len(em_batch)"
   ]
  },
  {
   "cell_type": "code",
   "execution_count": 19,
   "id": "5228d409-03fe-4fbe-99b3-2d9a3361d739",
   "metadata": {},
   "outputs": [],
   "source": [
    "from langchain_ollama import OllamaLLM\n",
    "\n",
    "model = OllamaLLM(model=\"llama3.1\")"
   ]
  },
  {
   "cell_type": "code",
   "execution_count": 20,
   "id": "bde48bbc-c8fb-4a4b-bfc7-840d479a2ac0",
   "metadata": {},
   "outputs": [],
   "source": [
    "from langchain_core.prompts import ChatPromptTemplate\n",
    "\n",
    "ptemplate = \"\"\"\n",
    "With the conversation context: {context}\n",
    "Please answer {question}\n",
    "\n",
    "\"\"\"\n",
    "\n",
    "prompt = ChatPromptTemplate.from_template(ptemplate)\n",
    "chain = prompt | model"
   ]
  },
  {
   "cell_type": "code",
   "execution_count": 21,
   "id": "0d9c5a99-f022-47e6-942d-e8b96a18fefc",
   "metadata": {},
   "outputs": [],
   "source": [
    "# only use LLM\n",
    "def chat_with_AI():\n",
    "    context = \"\"\n",
    "    print(\"Please say sth.\")\n",
    "    while True:\n",
    "        user_question = input(\"You: \")\n",
    "        if user_question.lower() == \"bye\":\n",
    "            break\n",
    "        print(\"User: \", user_question)\n",
    "        result = chain.invoke({\"context\": context, \"question\": user_question})\n",
    "        print(\"AI: \", result)\n",
    "        context += f\"\\n User: {user_question} \\n AI: {result}\""
   ]
  },
  {
   "cell_type": "code",
   "execution_count": 22,
   "id": "65f34bfa-f325-4286-a428-14352e8b3a9f",
   "metadata": {
    "scrolled": true
   },
   "outputs": [
    {
     "name": "stdout",
     "output_type": "stream",
     "text": [
      "Please say sth.\n",
      "User:  I'd like to set up a gaming computer for Black Myth: Wukong\n",
      "AI:  Black Myth: Wukong is an action-adventure game with impressive visuals and demanding system requirements. To set up a gaming computer that can handle it smoothly, I'd recommend considering the following components:\n",
      "\n",
      "1. **CPU:** A strong processor with multiple cores will help with multitasking and provide a smooth gaming experience. For Black Myth: Wukong, consider at least an Intel Core i7-12700K or AMD Ryzen 9 5900X.\n",
      "\n",
      "2. **GPU:** The graphics card is crucial for the game's performance. An NVIDIA GeForce RTX 3070 or AMD Radeon RX 6800 XT would be a good choice. If you can afford more, going up to an RTX 3080 or RX 6900 XT would provide even better visuals and performance.\n",
      "\n",
      "3. **RAM:** The game requires at least 16 GB of RAM, but for a smooth experience with all the features turned on, consider using 32 GB (2x16 GB) of DDR5 memory (if your CPU supports it). For older systems that support DDR4, using 32 GB as well will provide ample resources.\n",
      "\n",
      "4. **Storage:** A fast NVMe SSD is essential. It can be a single drive for the operating system and games or a combination with a traditional hard drive for storage. Consider at least a 1 TB SSD for the operating system and games.\n",
      "\n",
      "5. **Monitor & Display Settings:** Make sure your monitor supports the game's resolution and refresh rate. If you're running the game on high settings, consider a display with a high refresh rate (144 Hz or more) for a smoother experience.\n",
      "\n",
      "6. **Cooling System:** A good cooling system is necessary to prevent overheating when playing games at full capacity. Consider investing in a powerful liquid cooling setup like the Corsair Hydro H115i RGB Platinum.\n",
      "\n",
      "7. **Operating System and Drivers:** Ensure your operating system (Windows 11) is up-to-date, and all drivers are updated for your hardware components.\n",
      "\n",
      "8. **Additional Requirements:** Some games require more resources than others, so be prepared to possibly upgrade other parts down the line if you notice performance dips during extended gaming sessions or with updates.\n",
      "\n",
      "Remember, setting up a gaming computer that can handle demanding games like Black Myth: Wukong requires careful consideration of each component's impact on your system's overall performance. Upgrading hardware over time is often more cost-effective than trying to match the game's current requirements immediately.\n",
      "User:  any recommendations for a school student with a very limited budget?\n",
      "AI:  Setting up a gaming computer for Black Myth: Wukong can be challenging with a limited budget. However, here are some modified recommendations that should help you get started:\n",
      "\n",
      "**1. CPU:** Instead of the Intel Core i7-12700K or AMD Ryzen 9 5900X, consider an older-generation processor like the **Intel Core i5-11600K** or **AMD Ryzen 5 5600X**. These processors are still powerful enough to handle Black Myth: Wukong and are more budget-friendly.\n",
      "\n",
      "**2. GPU:** For a budget-friendly option, look for a **NVIDIA GeForce RTX 3060** or **AMD Radeon RX 6700 XT**. While they might not offer the same performance as higher-end GPUs, they should still be able to handle the game at lower graphics settings.\n",
      "\n",
      "**3. RAM:** With 16 GB of DDR4 memory (2x8 GB), you'll have enough RAM for a smooth experience with all features turned on. This is a significant cost reduction compared to the recommended 32 GB.\n",
      "\n",
      "**4. Storage:** A **1 TB NVMe SSD** should be sufficient for storing your operating system and games. Consider using a traditional hard drive or external storage for other files.\n",
      "\n",
      "**5. Monitor & Display Settings:** For now, use an existing monitor with a decent refresh rate (60 Hz). As you upgrade your computer in the future, consider investing in a new monitor that supports higher refresh rates.\n",
      "\n",
      "**6. Cooling System:** A basic air cooling system like the **Noctua NH-U12A** or **NZXT Kraken X73** should suffice for now. These systems are more affordable and will help keep your computer cool while gaming.\n",
      "\n",
      "**7. Operating System and Drivers:** Ensure your operating system (Windows 11) is up-to-date, and all drivers are updated for your hardware components.\n",
      "\n",
      "**Additional Tips:**\n",
      "\n",
      "* Use the game's built-in graphics settings to adjust performance according to your hardware.\n",
      "* Consider playing at lower resolutions or disabling some features to improve performance.\n",
      "* Keep an eye out for sales or discounts on gaming hardware, which can help you upgrade individual components as needed.\n",
      "* Prioritize upgrading one component at a time, rather than trying to upgrade everything at once.\n",
      "\n",
      "Remember that building a gaming computer with a limited budget requires patience and flexibility. As your financial situation improves, you'll be able to upgrade specific components to better match the game's requirements.\n"
     ]
    }
   ],
   "source": [
    "chat_with_AI()"
   ]
  },
  {
   "cell_type": "code",
   "execution_count": null,
   "id": "682b747f-97d3-4fdf-816e-92b1b423fdb6",
   "metadata": {},
   "outputs": [],
   "source": []
  },
  {
   "cell_type": "code",
   "execution_count": 25,
   "id": "dab5cb0e-ea6a-49d2-903d-25467fa7610a",
   "metadata": {},
   "outputs": [],
   "source": [
    "# use the text from reddit to improve performance of chatbot\n",
    "def chat_with_AI_RAG():\n",
    "    context = \"\"\n",
    "    print(\"Please say sth.\")\n",
    "    while True:\n",
    "        user_question = input(\"You: \")\n",
    "        if user_question.lower() == \"bye\":\n",
    "            break\n",
    "        print(\"User: \", user_question)\n",
    "        top_sim_chunks = find_top_similar_ones(user_question, 10)\n",
    "        for tc in top_sim_chunks:\n",
    "            context += f\"\\n AI: {all_chunks[tc[1]]}\"\n",
    "        \n",
    "        result = chain.invoke({\"context\": context, \"question\": user_question})\n",
    "        print(\"AI: \", result)\n",
    "        context += f\"\\n User: {user_question} \\n AI: {result}\""
   ]
  },
  {
   "cell_type": "code",
   "execution_count": 26,
   "id": "e5c9ee9f-5909-4b3a-bcb9-05a3c860d11a",
   "metadata": {},
   "outputs": [
    {
     "name": "stdout",
     "output_type": "stream",
     "text": [
      "Please say sth.\n",
      "User:  I'd like to set up a gaming computer for Black Myth: Wukong\n",
      "AI:  A gamer's quest!\n",
      "\n",
      "Based on our conversation context, I'm assuming you're looking to build a gaming PC that can handle modern games smoothly. For Black Myth: Wukong, which is a 3D platformer with some impressive visuals, here are the minimum and recommended system requirements:\n",
      "\n",
      "Minimum:\n",
      "\n",
      "* CPU: Intel Core i5-11600K or AMD Ryzen 5 5600X\n",
      "* GPU: NVIDIA GeForce GTX 1060 or AMD Radeon RX 580\n",
      "* RAM: 8 GB DDR4\n",
      "* Storage: 128 GB SSD\n",
      "\n",
      "Recommended:\n",
      "\n",
      "* CPU: Intel Core i7-11700K or AMD Ryzen 9 5900X\n",
      "* GPU: NVIDIA GeForce RTX 3060 or AMD Radeon RX 6800 XT\n",
      "* RAM: 16 GB DDR4\n",
      "* Storage: 512 GB SSD\n",
      "\n",
      "Considering these requirements, I'd suggest building a PC with the following specs:\n",
      "\n",
      "**CPU:** Intel Core i7-11700K (11th Gen) - A powerful and efficient CPU that can handle demanding games.\n",
      "**GPU:** NVIDIA GeForce RTX 3060 (6GB GDDR6) - A popular and powerful GPU that provides smooth performance in modern games.\n",
      "**RAM:** Corsair Vengeance LPX 16 GB (2x8 GB, DDR4 3200 MHz) - Plenty of RAM to handle game loading and multitasking.\n",
      "**Storage:** Samsung 970 EVO Plus M.2 NVMe SSD 1TB - A fast and reliable storage drive that loads games quickly.\n",
      "\n",
      "These components should provide a great balance between performance and cost. Feel free to adjust the specifications based on your specific needs and budget!\n",
      "\n",
      "Which parts would you like me to recommend for each component?\n",
      "User:  any recommendations for a school student with a very limited budget?\n",
      "AI:  Given your conversation context, it seems like you're looking to build a gaming PC on a tight budget as a school student.\n",
      "\n",
      "Considering the minimum system requirements for Black Myth: Wukong and other modern games, here are some affordable components that might interest you:\n",
      "\n",
      "**CPU:** AMD Ryzen 3 3200G (a decent CPU with integrated Vega graphics) - A more budget-friendly option that still provides good performance. ($100-$150)\n",
      "**GPU:** NVIDIA GeForce GTX 1650 Super (2GB GDDR6) - An entry-level GPU that can handle some modern games at low to medium settings. ($80-$120)\n",
      "**RAM:** Kingston HyperX Fury 8 GB (1x8 GB, DDR4 3200 MHz) - A decent amount of RAM for most gaming needs. ($30-$50)\n",
      "**Storage:** Western Digital Caviar Blue 500 GB NVMe SSD - A fast storage drive that loads games quickly. ($40-$60)\n",
      "\n",
      "Keep in mind that these components might not be the most powerful, but they'll still provide a decent gaming experience on a budget.\n",
      "\n",
      "As for other suggestions, you could consider:\n",
      "\n",
      "* Buying last year's model or refurbished parts to save money\n",
      "* Shopping during sales or using discounts from online retailers\n",
      "* Using free or open-source software to manage your PC (e.g., LibreOffice, Audacity)\n",
      "* Looking into DIY projects or building guides on websites like YouTube, Reddit, or Instructables\n",
      "\n",
      "Remember to prioritize what you need most and adjust your build accordingly. If you're willing to make some compromises, you can get a decent gaming PC without breaking the bank!\n",
      "\n",
      "Which components would you like me to recommend further?\n"
     ]
    }
   ],
   "source": [
    "chat_with_AI_RAG()"
   ]
  },
  {
   "cell_type": "code",
   "execution_count": null,
   "id": "e6ce9594-4793-4510-847e-b9149ff1ae2c",
   "metadata": {},
   "outputs": [],
   "source": []
  }
 ],
 "metadata": {
  "kernelspec": {
   "display_name": "base",
   "language": "python",
   "name": "python3"
  },
  "language_info": {
   "codemirror_mode": {
    "name": "ipython",
    "version": 3
   },
   "file_extension": ".py",
   "mimetype": "text/x-python",
   "name": "python",
   "nbconvert_exporter": "python",
   "pygments_lexer": "ipython3",
   "version": "3.12.3"
  }
 },
 "nbformat": 4,
 "nbformat_minor": 5
}
